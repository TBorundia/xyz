{
 "cells": [
  {
   "cell_type": "markdown",
   "metadata": {},
   "source": [
    "### Name: Vaibhav Singhavi\n",
    "### Roll Number: 64\n",
    "### Batch: C4"
   ]
  },
  {
   "cell_type": "markdown",
   "metadata": {},
   "source": [
    "### Aim: Construction of Single Source Shortest Path"
   ]
  },
  {
   "cell_type": "markdown",
   "metadata": {},
   "source": [
    "#### Problem Statement: \n",
    "Develop a system to optimize the delivery routes for a fleet of vehicles in a metropolitan area. The system should efficiently calculate the shortest paths between multiple pickup and delivery points, taking into account traffic congestion and road conditions. Implement the Bellman-Ford algorithm to find the shortest path from a central depot to each delivery location while considering varying transportation costs and time constraints.\n",
    "Consider the following criteria for determining connections within the same state in India:\n",
    "i. Determine the latitude and longitude of addresses within the same city. Select 6 to 8 addresses, with one designated as zero mile, and construct a fully connected graph.\n",
    "ii. Designate the zero mile location as the pickup point.\n",
    "iii. Calculate the shortest paths between the pickup point and delivery points."
   ]
  },
  {
   "cell_type": "code",
   "execution_count": 9,
   "metadata": {},
   "outputs": [],
   "source": [
    "def bellman_ford(G, S):\n",
    "    distance = {v: float('inf') for v in G}\n",
    "    previous = {v: None for v in G}\n",
    "    distance[S] = 0\n",
    "\n",
    "    for _ in range(len(G) - 1):\n",
    "        for u in G:\n",
    "            for v in G[u]:\n",
    "                if distance[u] + G[u][v] < distance[v]:\n",
    "                    distance[v] = distance[u] + G[u][v]\n",
    "                    previous[v] = u\n",
    "\n",
    "    for u in G:\n",
    "        for v in G[u]:\n",
    "            if distance[u] + G[u][v] < distance[v]:\n",
    "                print(\"Error: Negative Cycle Exists\")\n",
    "                return None, None\n",
    "\n",
    "    return distance, previous\n",
    "\n",
    "\n"
   ]
  },
  {
   "cell_type": "code",
   "execution_count": 10,
   "metadata": {},
   "outputs": [
    {
     "name": "stdout",
     "output_type": "stream",
     "text": [
      "Distances: {0: 0, 1: 3, 2: 2, 3: 1, 4: 6}\n",
      "Previous vertices: {0: None, 1: 2, 2: 0, 3: 4, 4: 1}\n"
     ]
    }
   ],
   "source": [
    "G = {\n",
    "    0: {1: 4, 2: 2},\n",
    "    1: {2: 3, 3: 2, 4: 3},\n",
    "    2: {1: 1, 3: 4, 4: 5},\n",
    "    3: {},\n",
    "    4: {3: -5}\n",
    "}\n",
    "d, p = bellman_ford(G, 0)\n",
    "print(\"Distances:\", d)\n",
    "print(\"Previous vertices:\", p)"
   ]
  },
  {
   "cell_type": "code",
   "execution_count": 12,
   "metadata": {},
   "outputs": [],
   "source": [
    "from geopy.geocoders import Nominatim\n",
    "from geopy.distance import geodesic\n",
    "\n",
    "def get_coordinates(location):\n",
    "    geolocator = Nominatim(user_agent=\"geoapiExercises\")\n",
    "    location = geolocator.geocode(location)\n",
    "    if location:\n",
    "        return (location.latitude, location.longitude)\n",
    "    else:\n",
    "        return (None, None)\n",
    "\n",
    "def calculate_distance(location1, location2):\n",
    "    distance = geodesic(location1, location2).kilometers\n",
    "    return distance\n"
   ]
  },
  {
   "cell_type": "code",
   "execution_count": 14,
   "metadata": {},
   "outputs": [],
   "source": [
    "rcoem = get_coordinates(\"Shri Ramdeobaba College of Engineering, Nagpur\")\n",
    "zero = get_coordinates(\"Zero Mile, Nagpur\")\n",
    "sita = get_coordinates(\"Sitabuldi, Nagpur\")\n",
    "buti = get_coordinates(\"Butibori\")\n",
    "kat = get_coordinates(\"Katol\")\n",
    "airp = get_coordinates(\"Airport, Nagpur\")"
   ]
  },
  {
   "cell_type": "code",
   "execution_count": 20,
   "metadata": {},
   "outputs": [],
   "source": [
    "G = {\n",
    "    \"RCOEM\": {\"RCOEM\":0, \"Zero\":calculate_distance(rcoem,zero), \"Sitabuldi\":calculate_distance(rcoem,sita),\"Butibori\":calculate_distance(rcoem,buti), \"Katol\":calculate_distance(rcoem,kat),\"Airport\":calculate_distance(rcoem,airp)},\n",
    "    \"Zero\": {\"RCOEM\":calculate_distance(zero,rcoem), \"Zero\":0, \"Sitabuldi\":calculate_distance(zero,sita),\"Butibori\":calculate_distance(zero,buti), \"Katol\":calculate_distance(zero,kat),\"Airport\":calculate_distance(zero,airp)},\n",
    "    \"Sitabuldi\": {\"RCOEM\":calculate_distance(sita,rcoem), \"Zero\":calculate_distance(sita,zero), \"Sitabuldi\":0,\"Butibori\":calculate_distance(sita,buti), \"Katol\":calculate_distance(sita,kat),\"Airport\":calculate_distance(sita,airp)},\n",
    "    \"Butibori\": {\"RCOEM\":calculate_distance(buti,rcoem), \"Zero\":calculate_distance(buti,zero), \"Sitabuldi\":calculate_distance(buti,sita),\"Butibori\":0, \"Katol\":calculate_distance(buti,kat),\"Airport\":calculate_distance(buti,airp)},\n",
    "    \"Katol\": {\"RCOEM\":calculate_distance(kat,rcoem), \"Zero\":calculate_distance(kat,zero), \"Sitabuldi\":calculate_distance(kat,sita),\"Butibori\":calculate_distance(kat,buti), \"Katol\":0,\"Airport\":calculate_distance(kat,airp)},\n",
    "    \"Airport\": {\"RCOEM\":calculate_distance(airp,rcoem), \"Zero\":calculate_distance(airp,zero), \"Sitabuldi\":calculate_distance(airp,sita),\"Butibori\":calculate_distance(airp,buti), \"Katol\":calculate_distance(airp,kat),\"Airport\":0}\n",
    "}"
   ]
  },
  {
   "cell_type": "code",
   "execution_count": 23,
   "metadata": {},
   "outputs": [
    {
     "name": "stdout",
     "output_type": "stream",
     "text": [
      "Distances: {'RCOEM': 3.846235446636417, 'Zero': 0, 'Sitabuldi': 0.6118639653185539, 'Butibori': 25.371372509772904, 'Katol': 46.78428218130827, 'Airport': 6.921021079915281}\n",
      "Previous vertices: {'RCOEM': 'Zero', 'Zero': None, 'Sitabuldi': 'Zero', 'Butibori': 'Zero', 'Katol': 'Zero', 'Airport': 'Zero'}\n"
     ]
    }
   ],
   "source": [
    "d, p = bellman_ford(G, \"Zero\")\n",
    "print(\"Distances:\", d)\n",
    "print(\"Previous vertices:\", p)"
   ]
  },
  {
   "cell_type": "code",
   "execution_count": 24,
   "metadata": {},
   "outputs": [
    {
     "name": "stdout",
     "output_type": "stream",
     "text": [
      "Source: Zero Mile\n",
      "Place, Distance, Previous\n",
      "RCOEM 3.846235446636417 Zero\n",
      "Zero 0 None\n",
      "Sitabuldi 0.6118639653185539 Zero\n",
      "Butibori 25.371372509772904 Zero\n",
      "Katol 46.78428218130827 Zero\n",
      "Airport 6.921021079915281 Zero\n"
     ]
    }
   ],
   "source": [
    "print(\"Source: Zero Mile\")\n",
    "print(\"Place, Distance, Previous\")\n",
    "for place in d.keys():\n",
    "    print(place, d[place], p[place])"
   ]
  },
  {
   "cell_type": "code",
   "execution_count": null,
   "metadata": {},
   "outputs": [],
   "source": []
  }
 ],
 "metadata": {
  "kernelspec": {
   "display_name": "base",
   "language": "python",
   "name": "python3"
  },
  "language_info": {
   "codemirror_mode": {
    "name": "ipython",
    "version": 3
   },
   "file_extension": ".py",
   "mimetype": "text/x-python",
   "name": "python",
   "nbconvert_exporter": "python",
   "pygments_lexer": "ipython3",
   "version": "3.11.4"
  }
 },
 "nbformat": 4,
 "nbformat_minor": 2
}
