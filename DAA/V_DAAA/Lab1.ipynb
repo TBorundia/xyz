{
 "cells": [
  {
   "cell_type": "markdown",
   "metadata": {},
   "source": [
    "### Statement 1:"
   ]
  },
  {
   "cell_type": "code",
   "execution_count": 2,
   "metadata": {},
   "outputs": [],
   "source": [
    "import pandas as pd "
   ]
  },
  {
   "cell_type": "code",
   "execution_count": 27,
   "metadata": {},
   "outputs": [],
   "source": [
    "data=pd.read_csv(\"data500.csv\")"
   ]
  },
  {
   "cell_type": "code",
   "execution_count": 21,
   "metadata": {},
   "outputs": [
    {
     "name": "stdout",
     "output_type": "stream",
     "text": [
      "     numbers\n",
      "0        255\n",
      "1         78\n",
      "2        768\n",
      "3        187\n",
      "4        481\n",
      "..       ...\n",
      "495      405\n",
      "496      180\n",
      "497      763\n",
      "498      978\n",
      "499      294\n",
      "\n",
      "[500 rows x 1 columns]\n"
     ]
    }
   ],
   "source": [
    "print(data)"
   ]
  },
  {
   "cell_type": "code",
   "execution_count": 5,
   "metadata": {},
   "outputs": [],
   "source": [
    "def insertion_sort(data,n):\n",
    "    i=1\n",
    "    while(i<n):\n",
    "        key = data[i]\n",
    "        j = i-1\n",
    "        while j >= 0 and key < data[j]:\n",
    "            data[j+1] = data[j]\n",
    "            j -= 1\n",
    "        data[j+1] = key\n",
    "        i += 1\n",
    "    return data"
   ]
  },
  {
   "cell_type": "code",
   "execution_count": 28,
   "metadata": {},
   "outputs": [],
   "source": [
    "import time\n",
    "start=time.perf_counter()\n",
    "insertion_sort(data[\"numbers\"],500) \n",
    "end= time.perf_counter()\n",
    "timetaken=end-start"
   ]
  },
  {
   "cell_type": "code",
   "execution_count": 29,
   "metadata": {},
   "outputs": [
    {
     "name": "stdout",
     "output_type": "stream",
     "text": [
      "4.067278000060469\n"
     ]
    }
   ],
   "source": [
    "print(timetaken)"
   ]
  },
  {
   "cell_type": "code",
   "execution_count": 16,
   "metadata": {},
   "outputs": [
    {
     "name": "stdout",
     "output_type": "stream",
     "text": [
      "Minimum is  4\n"
     ]
    }
   ],
   "source": [
    "print(\"Minimum is \", data[\"numbers\"][0])"
   ]
  },
  {
   "cell_type": "code",
   "execution_count": 18,
   "metadata": {},
   "outputs": [
    {
     "name": "stdout",
     "output_type": "stream",
     "text": [
      "Maximum is  998\n"
     ]
    }
   ],
   "source": [
    "print(\"Maximum is \", data[\"numbers\"][499])"
   ]
  },
  {
   "cell_type": "code",
   "execution_count": 25,
   "metadata": {},
   "outputs": [],
   "source": [
    "import time\n",
    "start=time.perf_counter()\n",
    "insertion_sort(data[\"numbers\"],500) \n",
    "end= time.perf_counter()\n",
    "timetaken=end-start"
   ]
  },
  {
   "cell_type": "code",
   "execution_count": 26,
   "metadata": {},
   "outputs": [
    {
     "name": "stdout",
     "output_type": "stream",
     "text": [
      "0.049544500187039375\n"
     ]
    }
   ],
   "source": [
    "print(timetaken)"
   ]
  },
  {
   "cell_type": "code",
   "execution_count": 42,
   "metadata": {},
   "outputs": [],
   "source": [
    "def merge(data,l,m,r):\n",
    "    n1=m-l+1\n",
    "    n2=r-m\n",
    "    i=j=0\n",
    "    l1=[]\n",
    "    l2=[]\n",
    "    for i in range(n1):\n",
    "        l1.append(data[l+i])\n",
    "    for j in range(n2):\n",
    "        l2.append(data[m+1+j])\n",
    "    i=j=0\n",
    "    k=l\n",
    "    while(i<n1 and j<n2):\n",
    "        if(l1[i]<l2[j]):\n",
    "            data[k]=l1[i]\n",
    "            i+=1\n",
    "            k+=1\n",
    "        else:\n",
    "            data[k]=l2[j]\n",
    "            j+=1\n",
    "            k+=1\n",
    "    while(i<n1):\n",
    "        data[k]=l1[i]\n",
    "        i+=1\n",
    "        k+=1\n",
    "    while(j<n2):\n",
    "        data[k]=l2[j]\n",
    "        j+=1\n",
    "        k+=1\n",
    "\n",
    "def merge_sort(data,l,r):\n",
    "    if (l<r):\n",
    "        m=int((l+r)/2)\n",
    "        merge_sort(data,l,m)\n",
    "        merge_sort(data,m+1,r)\n",
    "        merge(data,l,m,r)"
   ]
  },
  {
   "cell_type": "code",
   "execution_count": 32,
   "metadata": {},
   "outputs": [],
   "source": [
    "data=pd.read_csv(\"data500.csv\")"
   ]
  },
  {
   "cell_type": "code",
   "execution_count": 43,
   "metadata": {},
   "outputs": [
    {
     "name": "stdout",
     "output_type": "stream",
     "text": [
      "Time taken=  0.36356649990193546\n"
     ]
    }
   ],
   "source": [
    "import time\n",
    "start=time.perf_counter()\n",
    "merge_sort(data[\"numbers\"],0,len(data[\"numbers\"])-1) \n",
    "end= time.perf_counter()\n",
    "timetaken=end-start\n",
    "print(\"Time taken= \",timetaken)"
   ]
  },
  {
   "cell_type": "code",
   "execution_count": 45,
   "metadata": {},
   "outputs": [
    {
     "data": {
      "image/png": "[encoded data removed]",
      "text/plain": [
       "<Figure size 640x480 with 1 Axes>"
      ]
     },
     "metadata": {},
     "output_type": "display_data"
    }
   ],
   "source": [
    "import matplotlib.pyplot as plt\n",
    "\n",
    "labels = [\"Divide and Conquer\", \"Brute Force\"]\n",
    "times = [ 0.36356649990193546, 4.067278000060469]\n",
    "\n",
    "# Define custom colors for each bar\n",
    "colors = [\"blue\", \"green\"]\n",
    "\n",
    "plt.bar(labels, times, color=colors)\n",
    "plt.xlabel(\"Algorithm\")\n",
    "plt.ylabel(\"Time taken (s)\")\n",
    "plt.title(\"Comparison of Divide and Conquer vs Brute Force\")\n",
    "plt.show()"
   ]
  },
  {
   "cell_type": "markdown",
   "metadata": {},
   "source": [
    "### Statement 2:"
   ]
  },
  {
   "cell_type": "code",
   "execution_count": 1,
   "metadata": {},
   "outputs": [],
   "source": [
    "def balancePhoto(johnHeight, N, heights):\n",
    "    heights.append(johnHeight)\n",
    "    heights.sort()\n",
    "    john_index = heights.index(johnHeight)\n",
    "    left_count = john_index\n",
    "    right_count = N - john_index \n",
    "    cost = abs(left_count - right_count)\n",
    "    temp=cost\n",
    "    while temp!=0:\n",
    "        if left_count>right_count:\n",
    "            x=heights[N-1]\n",
    "            heights.append(x)\n",
    "            right_count+=1\n",
    "            temp-=1\n",
    "        elif right_count>left_count:\n",
    "            if(len(heights)==2):\n",
    "                x=heights[0]\n",
    "                heights.insert(0,x-1)\n",
    "                left_count+=1\n",
    "                temp-=1\n",
    "            else:\n",
    "                heights.pop()\n",
    "                right_count-=1\n",
    "                temp-=1\n",
    "    print(\"Operations required:\", cost)\n",
    "    print(\"Output:\", heights)\n",
    "    "
   ]
  },
  {
   "cell_type": "code",
   "execution_count": 2,
   "metadata": {},
   "outputs": [
    {
     "name": "stdout",
     "output_type": "stream",
     "text": [
      "Operations required: 1\n",
      "Output: [1, 2, 3]\n"
     ]
    }
   ],
   "source": [
    "john=2\n",
    "n=3\n",
    "heights=[4,3,1]\n",
    "balancePhoto(john,n,heights)"
   ]
  },
  {
   "cell_type": "code",
   "execution_count": 3,
   "metadata": {},
   "outputs": [
    {
     "name": "stdout",
     "output_type": "stream",
     "text": [
      "Operations required: 1\n",
      "Output: [4, 5, 6]\n"
     ]
    }
   ],
   "source": [
    "john=5\n",
    "n=1\n",
    "heights=[6]\n",
    "balancePhoto(john, n, heights)"
   ]
  },
  {
   "cell_type": "code",
   "execution_count": null,
   "metadata": {},
   "outputs": [],
   "source": []
  }
 ],
 "metadata": {
  "kernelspec": {
   "display_name": "base",
   "language": "python",
   "name": "python3"
  },
  "language_info": {
   "codemirror_mode": {
    "name": "ipython",
    "version": 3
   },
   "file_extension": ".py",
   "mimetype": "text/x-python",
   "name": "python",
   "nbconvert_exporter": "python",
   "pygments_lexer": "ipython3",
   "version": "3.11.4"
  }
 },
 "nbformat": 4,
 "nbformat_minor": 2
}
