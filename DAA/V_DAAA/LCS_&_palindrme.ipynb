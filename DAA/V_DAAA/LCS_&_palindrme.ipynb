{
 "cells": [
  {
   "cell_type": "markdown",
   "metadata": {},
   "source": [
    "### Name: Vaibhav Singhavi\n",
    "### Roll Number: 64\n",
    "### Batch: C4"
   ]
  },
  {
   "cell_type": "markdown",
   "metadata": {},
   "source": [
    "## Practical 5\n"
   ]
  },
  {
   "cell_type": "markdown",
   "metadata": {},
   "source": [
    "### Aim: Implement Longest Common Subsequence (LCS) algorithm to find the length and LCS for DNA sequences."
   ]
  },
  {
   "cell_type": "markdown",
   "metadata": {},
   "source": [
    "##### TASK-1: Find the similarity between the given X and Y sequence.\n",
    "##### X= AGCCCTAAGGGCTACCTAGCTT\n",
    "##### Y= GACAGCCTACAAGCGTTAGCTTG\n",
    "##### Output: Cost matrix with all costs, final cost of LCS."
   ]
  },
  {
   "cell_type": "code",
   "execution_count": 10,
   "metadata": {},
   "outputs": [],
   "source": [
    "def LCS(x,y,c,m,n):\n",
    "    for i in range(m+1):\n",
    "        c[i][0] = 0\n",
    "    for j in range(n+1):\n",
    "        c[0][j] = 0\n",
    "    for  i in range(1, m + 1):\n",
    "        for j in range(1, n + 1):\n",
    "            if (x[i-1] != y[j-1]):\n",
    "                c[i][j] = max(c[i-1][j],c[i][j-1])\n",
    "            else:\n",
    "                c[i][j] = c[i-1][j-1]+1\n",
    "    return c\n",
    "    "
   ]
  },
  {
   "cell_type": "code",
   "execution_count": 37,
   "metadata": {},
   "outputs": [],
   "source": [
    "def lcs_print(x,c,m,n):\n",
    "    if(c[m][n]==0):\n",
    "        return\n",
    "    if(c[m][n]==c[m-1][n]):\n",
    "        lcs_print(x,c,m-1,n)\n",
    "    elif(c[m][n]==c[m][n-1]):\n",
    "        lcs_print(x,c,m,n-1)\n",
    "    else:\n",
    "        lcs_print(x,c,m-1,n-1)\n",
    "        print(x[m-1],end='')\n"
   ]
  },
  {
   "cell_type": "code",
   "execution_count": 35,
   "metadata": {},
   "outputs": [
    {
     "name": "stdout",
     "output_type": "stream",
     "text": [
      "[[0, 0, 0, 0, 0, 0, 0, 0, 0, 0, 0, 0, 0, 0, 0, 0, 0, 0, 0, 0, 0, 0, 0, 0], [0, 0, 1, 1, 1, 1, 1, 1, 1, 1, 1, 1, 1, 1, 1, 1, 1, 1, 1, 1, 1, 1, 1, 1], [0, 1, 1, 1, 1, 2, 2, 2, 2, 2, 2, 2, 2, 2, 2, 2, 2, 2, 2, 2, 2, 2, 2, 2], [0, 1, 1, 2, 2, 2, 3, 3, 3, 3, 3, 3, 3, 3, 3, 3, 3, 3, 3, 3, 3, 3, 3, 3], [0, 1, 1, 2, 2, 2, 3, 4, 4, 4, 4, 4, 4, 4, 4, 4, 4, 4, 4, 4, 4, 4, 4, 4], [0, 1, 1, 2, 2, 2, 3, 4, 4, 4, 5, 5, 5, 5, 5, 5, 5, 5, 5, 5, 5, 5, 5, 5], [0, 1, 1, 2, 2, 2, 3, 4, 5, 5, 5, 5, 5, 5, 5, 5, 6, 6, 6, 6, 6, 6, 6, 6], [0, 1, 2, 2, 3, 3, 3, 4, 5, 6, 6, 6, 6, 6, 6, 6, 6, 6, 7, 7, 7, 7, 7, 7], [0, 1, 2, 2, 3, 3, 3, 4, 5, 6, 6, 7, 7, 7, 7, 7, 7, 7, 7, 7, 7, 7, 7, 7], [0, 1, 2, 2, 3, 4, 4, 4, 5, 6, 6, 7, 7, 8, 8, 8, 8, 8, 8, 8, 8, 8, 8, 8], [0, 1, 2, 2, 3, 4, 4, 4, 5, 6, 6, 7, 7, 8, 8, 9, 9, 9, 9, 9, 9, 9, 9, 9], [0, 1, 2, 2, 3, 4, 4, 4, 5, 6, 6, 7, 7, 8, 8, 9, 9, 9, 9, 10, 10, 10, 10, 10], [0, 1, 2, 3, 3, 4, 5, 5, 5, 6, 7, 7, 7, 8, 9, 9, 9, 9, 9, 10, 11, 11, 11, 11], [0, 1, 2, 3, 3, 4, 5, 5, 6, 6, 7, 7, 7, 8, 9, 9, 10, 10, 10, 10, 11, 12, 12, 12], [0, 1, 2, 3, 4, 4, 5, 5, 6, 7, 7, 8, 8, 8, 9, 9, 10, 10, 11, 11, 11, 12, 12, 12], [0, 1, 2, 3, 4, 4, 5, 6, 6, 7, 8, 8, 8, 8, 9, 9, 10, 10, 11, 11, 12, 12, 12, 12], [0, 1, 2, 3, 4, 4, 5, 6, 6, 7, 8, 8, 8, 8, 9, 9, 10, 10, 11, 11, 12, 12, 12, 12], [0, 1, 2, 3, 4, 4, 5, 6, 7, 7, 8, 8, 8, 8, 9, 9, 10, 11, 11, 11, 12, 13, 13, 13], [0, 1, 2, 3, 4, 4, 5, 6, 7, 8, 8, 9, 9, 9, 9, 9, 10, 11, 12, 12, 12, 13, 13, 13], [0, 1, 2, 3, 4, 5, 5, 6, 7, 8, 8, 9, 9, 10, 10, 10, 10, 11, 12, 13, 13, 13, 13, 14], [0, 1, 2, 3, 4, 5, 6, 6, 7, 8, 9, 9, 9, 10, 11, 11, 11, 11, 12, 13, 14, 14, 14, 14], [0, 1, 2, 3, 4, 5, 6, 6, 7, 8, 9, 9, 9, 10, 11, 11, 12, 12, 12, 13, 14, 15, 15, 15], [0, 1, 2, 3, 4, 5, 6, 6, 7, 8, 9, 9, 9, 10, 11, 11, 12, 13, 13, 13, 14, 15, 16, 16]]\n",
      "Final Cost:  16\n"
     ]
    }
   ],
   "source": [
    "X=\"AGCCCTAAGGGCTACCTAGCTT\"\n",
    "Y=\"GACAGCCTACAAGCGTTAGCTTG\"\n",
    "m = len(X)\n",
    "n = len(Y)\n",
    "c = []\n",
    "for _ in range(m+1):\n",
    "    row = []\n",
    "    for _ in range(n+1):\n",
    "        row.append(None)\n",
    "    c.append(row)\n",
    "c=LCS(X,Y,c,m,n)\n",
    "print(c)\n",
    "print(\"Final Cost: \", c[m][n])"
   ]
  },
  {
   "cell_type": "code",
   "execution_count": 38,
   "metadata": {},
   "outputs": [
    {
     "name": "stdout",
     "output_type": "stream",
     "text": [
      "AGCCTAAGGTTAGCTT"
     ]
    }
   ],
   "source": [
    "lcs_print(X,c,m,n)"
   ]
  },
  {
   "cell_type": "markdown",
   "metadata": {},
   "source": [
    "#### TASK-2: A subsequence of a given sequence is palindrome if it reads the same when read from left to right or right to left. Design an algorithm that take a sequence X[1...n].\n",
    "#### Find all the possible palindrome sub-sequences for the given DNA sequence\n",
    "#### A C G T G T C A A A A T C G"
   ]
  },
  {
   "cell_type": "code",
   "execution_count": 32,
   "metadata": {},
   "outputs": [],
   "source": [
    "def is_palindrome(s):\n",
    "    left, right = 0, len(s) - 1\n",
    "    while left < right:\n",
    "        if s[left] != s[right]:\n",
    "            return False\n",
    "        left += 1\n",
    "        right -= 1\n",
    "    return True\n",
    "\n",
    "def find_all_subsequences(s):\n",
    "    def backtrack(index, path):\n",
    "        if len(path) > 1:\n",
    "            subsequences.append(''.join(path))\n",
    "        for i in range(index, len(s)):\n",
    "            path.append(s[i])\n",
    "            backtrack(i + 1, path)\n",
    "            path.pop()  # Backtrack\n",
    "\n",
    "    subsequences = []\n",
    "    backtrack(0, [])\n",
    "    return subsequences\n",
    "\n",
    "def pal_subseq(str):\n",
    "    subs = find_all_subsequences(str)\n",
    "    pal_subs = set()\n",
    "    for sub in subs:\n",
    "        if (is_palindrome(sub)):\n",
    "            pal_subs.add(sub)\n",
    "    return pal_subs"
   ]
  },
  {
   "cell_type": "code",
   "execution_count": 33,
   "metadata": {},
   "outputs": [
    {
     "name": "stdout",
     "output_type": "stream",
     "text": [
      "{'ACA', 'ACTGTCA', 'ACTCA', 'CAC', 'TAAAT', 'CTATC', 'GCAAACG', 'CTGTC', 'CGGC', 'ATTA', 'TAAAAT', 'AGA', 'ACGTGCA', 'AAAA', 'ACGGCA', 'CTC', 'GCAAAACG', 'GCTCG', 'TAAT', 'GTAAAATG', 'TCT', 'GCACG', 'CC', 'GTG', 'CGTGC', 'AGTGA', 'AAA', 'GCG', 'GG', 'GAAAG', 'ACTTCA', 'GTAAATG', 'CAAAAC', 'ATGTA', 'AAAAA', 'CTAAAATC', 'AA', 'TT', 'CGC', 'CTTTC', 'TAT', 'GTTTG', 'CTTC', 'CAAC', 'GCAACG', 'GGG', 'GAAAAG', 'GAAG', 'GAG', 'CCC', 'TGT', 'ATA', 'CTCTC', 'GTTG', 'ACGCA', 'CAAAC', 'GTGTG', 'GTCTG', 'GCCG', 'AGGA', 'GTATG', 'CTAATC', 'ACCA', 'CTAAATC', 'GTAATG', 'TTT'}\n",
      "Total Substrings:  66\n"
     ]
    }
   ],
   "source": [
    "s = \"ACGTGTCAAAATCG\"\n",
    "subs = pal_subseq(s)\n",
    "print(subs)\n",
    "print(\"Total Substrings: \",len(subs))"
   ]
  },
  {
   "cell_type": "code",
   "execution_count": null,
   "metadata": {},
   "outputs": [],
   "source": []
  }
 ],
 "metadata": {
  "kernelspec": {
   "display_name": "base",
   "language": "python",
   "name": "python3"
  },
  "language_info": {
   "codemirror_mode": {
    "name": "ipython",
    "version": 3
   },
   "file_extension": ".py",
   "mimetype": "text/x-python",
   "name": "python",
   "nbconvert_exporter": "python",
   "pygments_lexer": "ipython3",
   "version": "3.11.4"
  }
 },
 "nbformat": 4,
 "nbformat_minor": 2
}
