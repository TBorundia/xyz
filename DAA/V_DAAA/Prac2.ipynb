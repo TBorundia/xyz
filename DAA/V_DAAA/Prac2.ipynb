{
  "cells": [
    {
      "cell_type": "markdown",
      "metadata": {},
      "source": [
        "## Practical 2\n",
        "### Vaibhav Singhavi\n",
        "### Roll Number: 64\n"
      ]
    },
    {
      "cell_type": "code",
      "execution_count": 2,
      "metadata": {
        "id": "fAVONFqn8ivU"
      },
      "outputs": [],
      "source": [
        "from geopy.geocoders import Nominatim\n",
        "from geopy.distance import geodesic as GD\n"
      ]
    },
    {
      "cell_type": "code",
      "execution_count": 25,
      "metadata": {},
      "outputs": [],
      "source": [
        "import time"
      ]
    },
    {
      "cell_type": "code",
      "execution_count": 43,
      "metadata": {},
      "outputs": [],
      "source": [
        "\n",
        "geolocator = Nominatim(user_agent=\"primsAlgo\")\n",
        "n=int(input(\"Number of cities\"))\n",
        "list=[]\n",
        "for i in range(n):\n",
        "    list.append(input(\"Enter the City\"))"
      ]
    },
    {
      "cell_type": "code",
      "execution_count": 44,
      "metadata": {},
      "outputs": [
        {
          "data": {
            "text/plain": [
              "['Mumbai',\n",
              " 'Pune',\n",
              " 'Nashik',\n",
              " 'Delhi',\n",
              " 'Chennai',\n",
              " 'Hyderabad',\n",
              " 'Kashmir',\n",
              " 'Kanyakumari']"
            ]
          },
          "execution_count": 44,
          "metadata": {},
          "output_type": "execute_result"
        }
      ],
      "source": [
        "list"
      ]
    },
    {
      "cell_type": "code",
      "execution_count": 45,
      "metadata": {
        "id": "zGG5zEZf8nCp"
      },
      "outputs": [],
      "source": [
        "city=[]\n",
        "latitude=[]\n",
        "longitude=[]\n",
        "for i in range(n):\n",
        "  location = geolocator.geocode(list[i])\n",
        "  latitude.append(location.latitude)\n",
        "  longitude.append(location.longitude)\n",
        "for j in range(n):\n",
        "  city.append((latitude[j], longitude[j]))"
      ]
    },
    {
      "cell_type": "code",
      "execution_count": 46,
      "metadata": {
        "colab": {
          "base_uri": "https://localhost:8080/"
        },
        "id": "wagZrgZS8rNb",
        "outputId": "499cd177-2b5a-487f-f9b9-95b4be8e62d6"
      },
      "outputs": [
        {
          "data": {
            "text/plain": [
              "[19.0785451,\n",
              " 18.521428,\n",
              " 20.0112475,\n",
              " 28.6273928,\n",
              " 13.0836939,\n",
              " 17.360589,\n",
              " 26.2644203,\n",
              " 8.079252]"
            ]
          },
          "execution_count": 46,
          "metadata": {},
          "output_type": "execute_result"
        }
      ],
      "source": [
        "latitude"
      ]
    },
    {
      "cell_type": "code",
      "execution_count": 47,
      "metadata": {
        "colab": {
          "base_uri": "https://localhost:8080/"
        },
        "id": "D3LLDk_i8rOl",
        "outputId": "6ea39b48-a3d3-465d-d44b-03f081cd5078"
      },
      "outputs": [
        {
          "data": {
            "text/plain": [
              "[72.878176,\n",
              " 73.8544541,\n",
              " 73.7902364,\n",
              " 77.1716954,\n",
              " 80.270186,\n",
              " 78.4740613,\n",
              " 71.6027498,\n",
              " 77.5499338]"
            ]
          },
          "execution_count": 47,
          "metadata": {},
          "output_type": "execute_result"
        }
      ],
      "source": [
        "longitude"
      ]
    },
    {
      "cell_type": "code",
      "execution_count": 48,
      "metadata": {
        "colab": {
          "base_uri": "https://localhost:8080/"
        },
        "id": "qhOWBoen8rTU",
        "outputId": "826b6ee2-31c2-4e5f-a6d7-4efbf46f9309"
      },
      "outputs": [
        {
          "name": "stdout",
          "output_type": "stream",
          "text": [
            "Cities and their Latitudes and Longitudes: \n",
            " [(19.0785451, 72.878176), (18.521428, 73.8544541), (20.0112475, 73.7902364), (28.6273928, 77.1716954), (13.0836939, 80.270186), (17.360589, 78.4740613), (26.2644203, 71.6027498), (8.079252, 77.5499338)]\n"
          ]
        }
      ],
      "source": [
        "print(\"Cities and their Latitudes and Longitudes: \\n\",city)"
      ]
    },
    {
      "cell_type": "code",
      "execution_count": 49,
      "metadata": {
        "colab": {
          "base_uri": "https://localhost:8080/"
        },
        "id": "l4NzGyW98rUS",
        "outputId": "dacbc3f1-1a5b-4eca-9440-891659a4faca"
      },
      "outputs": [
        {
          "name": "stdout",
          "output_type": "stream",
          "text": [
            "Constructed Matrix : \n",
            "[[   0.           74.55029367   87.48224083  710.95085794  641.18830673\n",
            "   386.26777265  501.11633842  818.62569311]\n",
            " [  74.55029367    0.          102.55989455  726.49505114  567.48633652\n",
            "   314.39083762  551.87869841  759.62018048]\n",
            " [  87.48224083  102.55989455    0.          630.08313588  641.35399163\n",
            "   357.02193638  452.2356447   858.10404144]\n",
            " [ 710.95085794  726.49505114  630.08313588    0.         1087.82745552\n",
            "   779.7259724   378.74927097 1413.55848317]\n",
            " [ 641.18830673  567.48633652  641.35399163 1087.82745552    0.\n",
            "   317.55492766 1067.23679562  390.51819811]\n",
            " [ 386.26777265  314.39083762  357.02193638  779.7259724   317.55492766\n",
            "     0.          754.70860026  641.05530938]\n",
            " [ 501.11633842  551.87869841  452.2356447   378.74927097 1067.23679562\n",
            "   754.70860026    0.         1310.3393595 ]\n",
            " [ 818.62569311  759.62018048  858.10404144 1413.55848317  390.51819811\n",
            "   641.05530938 1310.3393595     0.        ]]\n"
          ]
        }
      ],
      "source": [
        "import numpy as np\n",
        "Out=[]\n",
        "for i in range(n):\n",
        "  dist=[]\n",
        "  for j in range(n):\n",
        "    d=(GD(city[i],city[j]).miles)\n",
        "    dist.append(d)\n",
        "  Out.append(dist)\n",
        "# Creating NumPy array\n",
        "arr = np.array(Out)\n",
        "\n",
        "# Reshaping array to n x m matrix\n",
        "res = arr.reshape(n, n)\n",
        "\n",
        "# printing result\n",
        "print(\"Constructed Matrix : \\n\" + str(res))"
      ]
    },
    {
      "cell_type": "code",
      "execution_count": 50,
      "metadata": {
        "colab": {
          "base_uri": "https://localhost:8080/"
        },
        "id": "ERhw59lQAB7K",
        "outputId": "8efaa2de-82af-44bd-97c6-f67426756437"
      },
      "outputs": [
        {
          "data": {
            "text/plain": [
              "[818.6256931085393,\n",
              " 759.6201804808603,\n",
              " 858.1040414430607,\n",
              " 1413.5584831654965,\n",
              " 390.5181981074684,\n",
              " 641.0553093816167,\n",
              " 1310.3393594994695,\n",
              " 0.0]"
            ]
          },
          "execution_count": 50,
          "metadata": {},
          "output_type": "execute_result"
        }
      ],
      "source": [
        "dist"
      ]
    },
    {
      "cell_type": "code",
      "execution_count": 51,
      "metadata": {
        "colab": {
          "base_uri": "https://localhost:8080/"
        },
        "id": "PjA3SLr18rZo",
        "outputId": "6da27417-3b0e-43ec-9a1d-6547927cbaba"
      },
      "outputs": [
        {
          "data": {
            "text/plain": [
              "[[0.0,\n",
              "  74.55029367126821,\n",
              "  87.48224082988995,\n",
              "  710.9508579433975,\n",
              "  641.1883067323678,\n",
              "  386.2677726478118,\n",
              "  501.1163384173603,\n",
              "  818.6256931085393],\n",
              " [74.55029367126821,\n",
              "  0.0,\n",
              "  102.55989455322408,\n",
              "  726.4950511428258,\n",
              "  567.4863365210285,\n",
              "  314.39083762393216,\n",
              "  551.8786984064525,\n",
              "  759.6201804808603],\n",
              " [87.48224082988995,\n",
              "  102.55989455322408,\n",
              "  0.0,\n",
              "  630.0831358792143,\n",
              "  641.3539916286844,\n",
              "  357.0219363811122,\n",
              "  452.23564470222885,\n",
              "  858.1040414430607],\n",
              " [710.9508579433975,\n",
              "  726.4950511428258,\n",
              "  630.0831358792143,\n",
              "  0.0,\n",
              "  1087.8274555213395,\n",
              "  779.725972401886,\n",
              "  378.7492709677155,\n",
              "  1413.5584831654965],\n",
              " [641.1883067323678,\n",
              "  567.4863365210285,\n",
              "  641.3539916286844,\n",
              "  1087.8274555213395,\n",
              "  0.0,\n",
              "  317.5549276648711,\n",
              "  1067.236795615501,\n",
              "  390.5181981074684],\n",
              " [386.2677726478118,\n",
              "  314.39083762393216,\n",
              "  357.0219363811122,\n",
              "  779.725972401886,\n",
              "  317.5549276648711,\n",
              "  0.0,\n",
              "  754.7086002586992,\n",
              "  641.0553093816167],\n",
              " [501.1163384173603,\n",
              "  551.8786984064525,\n",
              "  452.23564470222885,\n",
              "  378.7492709677155,\n",
              "  1067.236795615501,\n",
              "  754.7086002586992,\n",
              "  0.0,\n",
              "  1310.3393594994695],\n",
              " [818.6256931085393,\n",
              "  759.6201804808603,\n",
              "  858.1040414430607,\n",
              "  1413.5584831654965,\n",
              "  390.5181981074684,\n",
              "  641.0553093816167,\n",
              "  1310.3393594994695,\n",
              "  0.0]]"
            ]
          },
          "execution_count": 51,
          "metadata": {},
          "output_type": "execute_result"
        }
      ],
      "source": [
        "Out"
      ]
    },
    {
      "cell_type": "code",
      "execution_count": 23,
      "metadata": {
        "colab": {
          "base_uri": "https://localhost:8080/"
        },
        "id": "gP38IA0-89Zi",
        "outputId": "562e3fb5-0bf9-4079-939e-b33f708096a9"
      },
      "outputs": [],
      "source": [
        "def Prims(graph, n):\n",
        "    INF = 999999\n",
        "    dist = [INF] * n\n",
        "    visited = [False] * n\n",
        "    dist[0] = 0\n",
        "    count = 0\n",
        "\n",
        "    while count < n - 1:\n",
        "        u = min_distance(dist, visited)\n",
        "        visited[u] = True\n",
        "        count2 = 0\n",
        "\n",
        "        while count2 < n:\n",
        "            if graph[u][count2] != 0 and not visited[count2] and graph[u][count2] < dist[count2]:\n",
        "                dist[count2] = graph[u][count2]\n",
        "            count2 += 1\n",
        "\n",
        "        count += 1\n",
        "\n",
        "    return dist\n",
        "\n",
        "def min_distance(dist, visited):\n",
        "    min_dist = float('inf')\n",
        "    min_index = -1\n",
        "\n",
        "    for i in range(len(dist)):\n",
        "        if dist[i] < min_dist and not visited[i]:\n",
        "            min_dist = dist[i]\n",
        "            min_index = i\n",
        "\n",
        "    return min_index"
      ]
    },
    {
      "cell_type": "code",
      "execution_count": 24,
      "metadata": {
        "id": "pmWRkX2o89f3"
      },
      "outputs": [
        {
          "data": {
            "text/plain": [
              "[0, 74.55029367126821, 385.2763086761522, 604.0116160731279, 528.4452755108051]"
            ]
          },
          "execution_count": 24,
          "metadata": {},
          "output_type": "execute_result"
        }
      ],
      "source": [
        "mst=Prims(res,n)\n",
        "mst"
      ]
    },
    {
      "cell_type": "code",
      "execution_count": 52,
      "metadata": {},
      "outputs": [
        {
          "name": "stdout",
          "output_type": "stream",
          "text": [
            "[0, 74.55029367126821, 87.48224082988995, 378.7492709677155, 317.5549276648711, 314.39083762393216, 452.23564470222885, 390.5181981074684]\n"
          ]
        }
      ],
      "source": [
        "start=time.perf_counter()\n",
        "mst=Prims(res,n)\n",
        "print(mst)\n",
        "end= time.perf_counter()\n",
        "timetaken=end-start"
      ]
    },
    {
      "cell_type": "code",
      "execution_count": 53,
      "metadata": {},
      "outputs": [
        {
          "name": "stdout",
          "output_type": "stream",
          "text": [
            "Time Taken:  0.000826000003144145\n"
          ]
        }
      ],
      "source": [
        "print(\"Time Taken: \",timetaken)"
      ]
    },
    {
      "cell_type": "code",
      "execution_count": 29,
      "metadata": {},
      "outputs": [],
      "source": [
        "time_for_5 = timetaken"
      ]
    },
    {
      "cell_type": "code",
      "execution_count": 42,
      "metadata": {},
      "outputs": [],
      "source": [
        "time_for_10 = timetaken"
      ]
    },
    {
      "cell_type": "code",
      "execution_count": 54,
      "metadata": {},
      "outputs": [],
      "source": [
        "time_for_8=timetaken"
      ]
    },
    {
      "cell_type": "code",
      "execution_count": 55,
      "metadata": {},
      "outputs": [
        {
          "data": {
            "image/png": "[encoded data removed]",
            "text/plain": [
              "<Figure size 640x480 with 1 Axes>"
            ]
          },
          "metadata": {},
          "output_type": "display_data"
        }
      ],
      "source": [
        "import matplotlib.pyplot as plt\n",
        "\n",
        "labels = [\"5\", \"8\", \"10\"]\n",
        "times = [ time_for_5,time_for_8,time_for_10]\n",
        "\n",
        "# Define custom colors for each bar\n",
        "colors = [\"blue\", \"green\",\"red\"]\n",
        "\n",
        "plt.bar(labels, times, color=colors)\n",
        "plt.xlabel(\"Number Of Cities\")\n",
        "plt.ylabel(\"Time taken (s)\")\n",
        "plt.title(\"Comparision of Time Taken for Prim's Algorithm in various number of Cities\")\n",
        "plt.show()"
      ]
    },
    {
      "cell_type": "code",
      "execution_count": null,
      "metadata": {},
      "outputs": [],
      "source": []
    }
  ],
  "metadata": {
    "colab": {
      "provenance": []
    },
    "kernelspec": {
      "display_name": "Python 3",
      "name": "python3"
    },
    "language_info": {
      "codemirror_mode": {
        "name": "ipython",
        "version": 3
      },
      "file_extension": ".py",
      "mimetype": "text/x-python",
      "name": "python",
      "nbconvert_exporter": "python",
      "pygments_lexer": "ipython3",
      "version": "3.11.4"
    }
  },
  "nbformat": 4,
  "nbformat_minor": 0
}
