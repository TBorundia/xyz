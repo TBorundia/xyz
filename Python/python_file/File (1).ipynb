{
 "cells": [
  {
   "cell_type": "markdown",
   "metadata": {},
   "source": [
    "*********File Handling in Python*******\n",
    "Files are named locations on disk to store related information. \n",
    "They are used to permanently store data in a non-volatile memory \n",
    "(e.g. hard disk).Since Random Access Memory (RAM) is volatile, we use files for future use of the data by permanently storing them.\n",
    "\n",
    "When we want to read from or write to a file, we need to open it first.When we are done, it needs to be closed,so that the resources that are tied with the file are freed.\n",
    "\n",
    "Hence, in Python, a file operation takes place in the following order:\n",
    "Open a file, Read or write (perform operation), Close the file\n",
    "\n",
    "All programs need the input to process and output to display data. \n",
    "And everything needs a file as name storage compartments on computers \n",
    "that are managed by OS. Though variables provide us a way to store \n",
    "data while the program runs, if we want out data to persist even \n",
    "after the termination of the program, we have to save it to a file."
   ]
  },
  {
   "cell_type": "markdown",
   "metadata": {},
   "source": [
    "\"\"\"\n",
    "The main function for handling files in Python is the open() function.\n",
    "The open() function takes two parameters; filename, and mode of opening a file.\n",
    "There are four different methods (modes) for opening a file:\n",
    "\n",
    "1. \"r\" - Read - Default value. Opens a file for reading, throws an error if the file does not exist\n",
    "2. \"a\" - Append - Opens a file for appending, creates the file if it does not exist\n",
    "3. \"w\" - Write - Opens a file for writing, creates the file if it does not exist\n",
    "4. \"x\" - Create - Creates the specified file, returns an error if the file exists\n",
    "\n",
    "In addition you can specify if the file should be handled as binary\n",
    "or text mode:\n",
    "\n",
    "1. \"t\" - Text - Default value. Text mode -  The default is reading in text mode.\n",
    "In this mode, we get strings when reading from the file.\n",
    "\n",
    "2. \"b\" - Binary - Binary mode (e.g. images)- binary mode returns bytes and this \n",
    "is the mode to be used when dealing with non-text files like images or \n",
    "executable files.\n",
    "\"\"\"\n"
   ]
  },
  {
   "cell_type": "code",
   "execution_count": 1,
   "metadata": {},
   "outputs": [
    {
     "ename": "FileNotFoundError",
     "evalue": "[Errno 2] No such file or directory: 'ABC.txt'",
     "output_type": "error",
     "traceback": [
      "\u001b[0;31m---------------------------------------------------------------------------\u001b[0m",
      "\u001b[0;31mFileNotFoundError\u001b[0m                         Traceback (most recent call last)",
      "\u001b[0;32m<ipython-input-1-ff0d2e15371a>\u001b[0m in \u001b[0;36m<module>\u001b[0;34m\u001b[0m\n\u001b[1;32m      1\u001b[0m \u001b[0;31m# Open a file for reading\u001b[0m\u001b[0;34m\u001b[0m\u001b[0;34m\u001b[0m\u001b[0;34m\u001b[0m\u001b[0m\n\u001b[0;32m----> 2\u001b[0;31m \u001b[0mf1\u001b[0m \u001b[0;34m=\u001b[0m \u001b[0mopen\u001b[0m\u001b[0;34m(\u001b[0m\u001b[0;34m\"ABC.txt\"\u001b[0m\u001b[0;34m)\u001b[0m  \u001b[0;31m# open file in current directory\u001b[0m\u001b[0;34m\u001b[0m\u001b[0;34m\u001b[0m\u001b[0m\n\u001b[0m\u001b[1;32m      3\u001b[0m \u001b[0;34m\u001b[0m\u001b[0m\n\u001b[1;32m      4\u001b[0m \u001b[0;31m# Read contents of file\u001b[0m\u001b[0;34m\u001b[0m\u001b[0;34m\u001b[0m\u001b[0;34m\u001b[0m\u001b[0m\n\u001b[1;32m      5\u001b[0m \u001b[0mf2\u001b[0m\u001b[0;34m=\u001b[0m\u001b[0mf1\u001b[0m\u001b[0;34m.\u001b[0m\u001b[0mread\u001b[0m\u001b[0;34m(\u001b[0m\u001b[0;34m)\u001b[0m\u001b[0;34m\u001b[0m\u001b[0;34m\u001b[0m\u001b[0m\n",
      "\u001b[0;31mFileNotFoundError\u001b[0m: [Errno 2] No such file or directory: 'ABC.txt'"
     ]
    }
   ],
   "source": [
    "# Open a file for reading\n",
    "f1 = open(\"ABC.txt\")  # open file in current directory\n",
    "\n",
    "# Read contents of file\n",
    "f2=f1.read()\n",
    "#print(\"The contents of the file are\\n\", f1.read())\n",
    "print(\"The contents of the file are\\n\", f2)"
   ]
  },
  {
   "cell_type": "code",
   "execution_count": 2,
   "metadata": {},
   "outputs": [
    {
     "name": "stdout",
     "output_type": "stream",
     "text": [
      "Python is a p\n"
     ]
    }
   ],
   "source": [
    "# Read part of the file\n",
    "# Read first 13 characters of file\n",
    "f2 = open(\"ABC.txt\", \"r\")\n",
    "print(f2.read(13))"
   ]
  },
  {
   "cell_type": "code",
   "execution_count": 3,
   "metadata": {},
   "outputs": [
    {
     "name": "stdout",
     "output_type": "stream",
     "text": [
      "Python is a pow\n"
     ]
    }
   ],
   "source": [
    "# Read part of the file\n",
    "# Read first 15 characters of file\n",
    "f2 = open(\"ABC.txt\", \"r\")\n",
    "print(f2.read(15))"
   ]
  },
  {
   "cell_type": "code",
   "execution_count": 4,
   "metadata": {},
   "outputs": [
    {
     "name": "stdout",
     "output_type": "stream",
     "text": [
      "Python is a powerful general-purpose programming language. \n",
      "\n",
      "It is used in web development, data science, creating software prototypes, \n",
      "\n",
      "and so on. Fortunately for beginners, Python has simple easy-to-use syntax.\n",
      "\n"
     ]
    }
   ],
   "source": [
    "# Read one line of the file\n",
    "f3 = open(\"ABC.txt\", \"r\")\n",
    "print(f3.readline())\n",
    "print(f3.readline())\n",
    "print(f3.readline())"
   ]
  },
  {
   "cell_type": "code",
   "execution_count": 5,
   "metadata": {},
   "outputs": [
    {
     "name": "stdout",
     "output_type": "stream",
     "text": [
      "Python is a powerful general-purpose programming language. \n",
      "\n",
      "It is used in web development, data science, creating software prototypes, \n",
      "\n",
      "and so on. Fortunately for beginners, Python has simple easy-to-use syntax.\n",
      "\n",
      "This makes Python an excellent language to learn to program for beginners.\n",
      "\n",
      "Our Python tutorial will guide you to learn Python one step at a timeNow the data is appended in file!Now the data is appended in file!Now the data is appended in file!Now the data is appended in file!\n"
     ]
    }
   ],
   "source": [
    "# Loop through file\n",
    "f4 = open(\"ABC.txt\")\n",
    "for x in f4:\n",
    "  print(x)"
   ]
  },
  {
   "cell_type": "code",
   "execution_count": 6,
   "metadata": {},
   "outputs": [
    {
     "name": "stdout",
     "output_type": "stream",
     "text": [
      "Python is a powerful general-purpose programming language. \n",
      "\n",
      "It is used in web development, data science, creating software prototypes, \n",
      "\n",
      "and so on. Fortunately for beginners, Python has simple easy-to-use syntax.\n",
      "\n",
      "This makes Python an excellent language to learn to program for beginners.\n",
      "\n",
      "Our Python tutorial will guide you to learn Python one step at a timeNow the data is appended in file!Now the data is appended in file!Now the data is appended in file!Now the data is appended in file!\n"
     ]
    }
   ],
   "source": [
    "# We can read a file line-by-line using a for loop. This is both efficient and \n",
    "#fast.\n",
    "f = open(\"ABC.txt\",'r')\n",
    "for line in f:\n",
    "    print(line)\n",
    "    #print(line)\n",
    "f.close()"
   ]
  },
  {
   "cell_type": "code",
   "execution_count": 7,
   "metadata": {},
   "outputs": [],
   "source": [
    "# Close file\n",
    "f1.close()\n",
    "f2.close()\n",
    "f3.close()\n",
    "f4.close()"
   ]
  },
  {
   "cell_type": "code",
   "execution_count": 8,
   "metadata": {},
   "outputs": [
    {
     "ename": "ValueError",
     "evalue": "I/O operation on closed file.",
     "output_type": "error",
     "traceback": [
      "\u001b[1;31m---------------------------------------------------------------------------\u001b[0m",
      "\u001b[1;31mValueError\u001b[0m                                Traceback (most recent call last)",
      "\u001b[1;32m<ipython-input-8-51ba57e8530f>\u001b[0m in \u001b[0;36m<module>\u001b[1;34m\u001b[0m\n\u001b[1;32m----> 1\u001b[1;33m \u001b[0mprint\u001b[0m\u001b[1;33m(\u001b[0m\u001b[0mf2\u001b[0m\u001b[1;33m.\u001b[0m\u001b[0mread\u001b[0m\u001b[1;33m(\u001b[0m\u001b[1;33m)\u001b[0m\u001b[1;33m)\u001b[0m\u001b[1;33m\u001b[0m\u001b[1;33m\u001b[0m\u001b[0m\n\u001b[0m",
      "\u001b[1;31mValueError\u001b[0m: I/O operation on closed file."
     ]
    }
   ],
   "source": [
    "print(f2.read())"
   ]
  },
  {
   "cell_type": "code",
   "execution_count": 9,
   "metadata": {},
   "outputs": [
    {
     "name": "stdout",
     "output_type": "stream",
     "text": [
      "Python is a powerful general-purpose programming language. \n",
      "It is used in web development, data science, creating software prototypes, \n",
      "and so on. Fortunately for beginners, Python has simple easy-to-use syntax.\n",
      "This makes Python an excellent language to learn to program for beginners.\n",
      "Our Python tutorial will guide you to learn Python one step at a timeNow the data is appended in file!Now the data is appended in file!Now the data is appended in file!Now the data is appended in file!\n"
     ]
    }
   ],
   "source": [
    "\"\"\"\n",
    "Write to an Existing File\n",
    "To write to an existing file, you must add a parameter to the open() function:\n",
    "\"a\" - Append - will append to the end of the file\n",
    "\"w\" - Write - will overwrite any existing content\n",
    "\"\"\"\n",
    "# Open and append file\n",
    "f1 = open(\"ABC.txt\", \"a\")\n",
    "f1.write(\"Now the data is appended in file!\")\n",
    "f2 = open(\"ABC.txt\", \"r\")\n",
    "# Open and read the file after the appending:\n",
    "print(f2.read())\n",
    "f1.close()"
   ]
  },
  {
   "cell_type": "code",
   "execution_count": 10,
   "metadata": {},
   "outputs": [
    {
     "name": "stdout",
     "output_type": "stream",
     "text": [
      "This file is already created\n",
      "\n"
     ]
    }
   ],
   "source": [
    "# Overwrite the file\n",
    "f3 = open(\"demo123.txt\", \"w\")\n",
    "f3.write(\"This file is already created\\n\")\n",
    "f3.close()\n",
    "\n",
    "#open and read the file after overwriting file:\n",
    "f4 = open(\"demo123.txt\", \"r\")\n",
    "print(f4.read())"
   ]
  },
  {
   "cell_type": "code",
   "execution_count": 11,
   "metadata": {},
   "outputs": [
    {
     "name": "stdout",
     "output_type": "stream",
     "text": [
      "a line of text\n",
      "another line of text\n",
      "a third line\n",
      "\n"
     ]
    }
   ],
   "source": [
    "# To write multiple lines to a file, use:\n",
    "f5 = open(\"demo3.txt\", \"w\")\n",
    "lines_of_text = [\"a line of text\\n\", \"another line of text\\n\", \"a third line\\n\"]\n",
    "f5.writelines(lines_of_text)\n",
    "f5.close()\n",
    "\n",
    "#open and read the file after the writing multiple lines:\n",
    "f6 = open(\"demo3.txt\", \"r\")\n",
    "print(f6.read())"
   ]
  },
  {
   "cell_type": "code",
   "execution_count": 12,
   "metadata": {},
   "outputs": [
    {
     "ename": "FileExistsError",
     "evalue": "[Errno 17] File exists: 'demo4.txt'",
     "output_type": "error",
     "traceback": [
      "\u001b[1;31m---------------------------------------------------------------------------\u001b[0m",
      "\u001b[1;31mFileExistsError\u001b[0m                           Traceback (most recent call last)",
      "\u001b[1;32m<ipython-input-12-4fcaab070592>\u001b[0m in \u001b[0;36m<module>\u001b[1;34m\u001b[0m\n\u001b[0;32m     11\u001b[0m \u001b[1;33m\u001b[0m\u001b[0m\n\u001b[0;32m     12\u001b[0m \u001b[1;31m# Create a new empty file\u001b[0m\u001b[1;33m\u001b[0m\u001b[1;33m\u001b[0m\u001b[1;33m\u001b[0m\u001b[0m\n\u001b[1;32m---> 13\u001b[1;33m \u001b[0mf1\u001b[0m \u001b[1;33m=\u001b[0m \u001b[0mopen\u001b[0m\u001b[1;33m(\u001b[0m\u001b[1;34m\"demo4.txt\"\u001b[0m\u001b[1;33m,\u001b[0m \u001b[1;34m\"x\"\u001b[0m\u001b[1;33m)\u001b[0m\u001b[1;33m\u001b[0m\u001b[1;33m\u001b[0m\u001b[0m\n\u001b[0m\u001b[0;32m     14\u001b[0m \u001b[1;33m\u001b[0m\u001b[0m\n\u001b[0;32m     15\u001b[0m \u001b[1;31m# Create a new file if it does not exist\u001b[0m\u001b[1;33m\u001b[0m\u001b[1;33m\u001b[0m\u001b[1;33m\u001b[0m\u001b[0m\n",
      "\u001b[1;31mFileExistsError\u001b[0m: [Errno 17] File exists: 'demo4.txt'"
     ]
    }
   ],
   "source": [
    "\"\"\"\n",
    "Create a New File\n",
    "To create a new file in Python, use the open() method, with one of the following parameters:\n",
    "1. \"x\" - Create - will create a file, returns an error if \n",
    "the file exist\n",
    "2. \"a\" - Append - will create a file if the specified file \n",
    "does not exist\n",
    "3. \"w\" - Write - will create a file if the specified file does \n",
    "not exist\n",
    "\"\"\"\n",
    "\n",
    "# Create a new empty file\n",
    "f1 = open(\"demo4.txt\", \"x\")\n",
    "\n",
    "# Create a new file if it does not exist\n",
    "f2 = open(\"demo5.txt\", \"w\")\n",
    "\n",
    "# Create a new file if it does not exist\n",
    "f3 = open(\"demo6.txt\", \"a\")"
   ]
  },
  {
   "cell_type": "code",
   "execution_count": 13,
   "metadata": {},
   "outputs": [
    {
     "name": "stdout",
     "output_type": "stream",
     "text": [
      "The file does not exist\n"
     ]
    }
   ],
   "source": [
    "\"\"\"\n",
    "Check if File exist\n",
    "To avoid getting an error, you might want to check if the \n",
    "file exists before you try to delete it\n",
    "You must import the OS module, and run its os.exist() function\n",
    "\"\"\"\n",
    "import os\n",
    "if os.path.exists(\"demo.txt\"):\n",
    "  print(\"The file exists\")\n",
    "else:\n",
    "  print(\"The file does not exist\")"
   ]
  },
  {
   "cell_type": "code",
   "execution_count": 82,
   "metadata": {},
   "outputs": [
    {
     "ename": "FileNotFoundError",
     "evalue": "[WinError 2] The system cannot find the file specified: 'demo.txt'",
     "output_type": "error",
     "traceback": [
      "\u001b[1;31m---------------------------------------------------------------------------\u001b[0m",
      "\u001b[1;31mFileNotFoundError\u001b[0m                         Traceback (most recent call last)",
      "\u001b[1;32m<ipython-input-82-1050b0141bb3>\u001b[0m in \u001b[0;36m<module>\u001b[1;34m\u001b[0m\n\u001b[0;32m      6\u001b[0m \"\"\"\n\u001b[0;32m      7\u001b[0m \u001b[1;32mimport\u001b[0m \u001b[0mos\u001b[0m\u001b[1;33m\u001b[0m\u001b[1;33m\u001b[0m\u001b[0m\n\u001b[1;32m----> 8\u001b[1;33m \u001b[0mos\u001b[0m\u001b[1;33m.\u001b[0m\u001b[0mremove\u001b[0m\u001b[1;33m(\u001b[0m\u001b[1;34m\"demo.txt\"\u001b[0m\u001b[1;33m)\u001b[0m\u001b[1;33m\u001b[0m\u001b[1;33m\u001b[0m\u001b[0m\n\u001b[0m\u001b[0;32m      9\u001b[0m \u001b[0mf6\u001b[0m \u001b[1;33m=\u001b[0m \u001b[0mopen\u001b[0m\u001b[1;33m(\u001b[0m\u001b[1;34m\"demo.txt\"\u001b[0m\u001b[1;33m,\u001b[0m \u001b[1;34m\"r\"\u001b[0m\u001b[1;33m)\u001b[0m\u001b[1;33m\u001b[0m\u001b[1;33m\u001b[0m\u001b[0m\n\u001b[0;32m     10\u001b[0m \u001b[0mprint\u001b[0m\u001b[1;33m(\u001b[0m\u001b[0mf6\u001b[0m\u001b[1;33m.\u001b[0m\u001b[0mread\u001b[0m\u001b[1;33m(\u001b[0m\u001b[1;33m)\u001b[0m\u001b[1;33m)\u001b[0m\u001b[1;33m\u001b[0m\u001b[1;33m\u001b[0m\u001b[0m\n",
      "\u001b[1;31mFileNotFoundError\u001b[0m: [WinError 2] The system cannot find the file specified: 'demo.txt'"
     ]
    }
   ],
   "source": [
    "\"\"\"\n",
    "Delete a File\n",
    "\n",
    "To delete a file, you must import the OS module, and run its os.remove() \n",
    "function\n",
    "\"\"\"\n",
    "import os\n",
    "os.remove(\"demo.txt\")\n",
    "f6 = open(\"demo.txt\", \"r\")\n",
    "print(f6.read())"
   ]
  },
  {
   "cell_type": "code",
   "execution_count": 83,
   "metadata": {},
   "outputs": [
    {
     "ename": "FileNotFoundError",
     "evalue": "[WinError 2] The system cannot find the file specified: 'demo'",
     "output_type": "error",
     "traceback": [
      "\u001b[1;31m---------------------------------------------------------------------------\u001b[0m",
      "\u001b[1;31mFileNotFoundError\u001b[0m                         Traceback (most recent call last)",
      "\u001b[1;32m<ipython-input-83-80ff72b694ad>\u001b[0m in \u001b[0;36m<module>\u001b[1;34m\u001b[0m\n\u001b[0;32m      7\u001b[0m \u001b[1;33m\u001b[0m\u001b[0m\n\u001b[0;32m      8\u001b[0m \u001b[1;32mimport\u001b[0m \u001b[0mos\u001b[0m\u001b[1;33m\u001b[0m\u001b[1;33m\u001b[0m\u001b[0m\n\u001b[1;32m----> 9\u001b[1;33m \u001b[0mos\u001b[0m\u001b[1;33m.\u001b[0m\u001b[0mrmdir\u001b[0m\u001b[1;33m(\u001b[0m\u001b[1;34m\"demo\"\u001b[0m\u001b[1;33m)\u001b[0m\u001b[1;33m\u001b[0m\u001b[1;33m\u001b[0m\u001b[0m\n\u001b[0m",
      "\u001b[1;31mFileNotFoundError\u001b[0m: [WinError 2] The system cannot find the file specified: 'demo'"
     ]
    }
   ],
   "source": [
    "\"\"\"\n",
    "Delete Folder\n",
    "To delete an entire folder, use the os.rmdir() method\n",
    "To delete a folder, you must import the OS module, and run its os.rmdir() \n",
    "function\n",
    "\"\"\"\n",
    "\n",
    "import os\n",
    "os.rmdir(\"demo\")"
   ]
  },
  {
   "cell_type": "code",
   "execution_count": 14,
   "metadata": {},
   "outputs": [
    {
     "name": "stdout",
     "output_type": "stream",
     "text": [
      "Welcome to the  World of Python!!!\n",
      " It is used to perform various operations\n"
     ]
    }
   ],
   "source": [
    "# with Method\n",
    "with open(\"demo3.txt\", \"w\") as f:  #is simillar to  f=open(\"demo3.txt\", \"w\")\n",
    "    f.write(\"Welcome to the  World of Python!!!\\n\")\n",
    "    f.write(\" It is used to perform various operations\")\n",
    "f6 = open(\"demo3.txt\", \"r\")\n",
    "print(f6.read())"
   ]
  },
  {
   "cell_type": "code",
   "execution_count": 1,
   "metadata": {},
   "outputs": [
    {
     "name": "stdout",
     "output_type": "stream",
     "text": [
      "Enter the text:heloo\n",
      "Enter the text:welcome\n",
      "Enter the text:hi\n",
      "This is first line\n",
      "This is second line\n",
      "This is third line\n",
      "abc\n",
      "xyz\n",
      "pqr\n",
      "abc\n",
      "xyx\n",
      "pqr\n",
      "abc\n",
      "xyz\n",
      "pqr\n",
      "welcome\n",
      "hello\n",
      "RCOEM\n",
      "hwllo\n",
      "welcome\n",
      "wanakkam\n",
      "heloo\n",
      "welcome\n",
      "hi\n",
      "\n"
     ]
    }
   ],
   "source": [
    "#Create a text file “MyFile.txt” in python and ask the user to write \n",
    "#separate 3 lines with three input statements from the user.\n",
    "def program2():\n",
    "    f = open(\"MyFile.txt\",\"a\")\n",
    "    line1=input(\"Enter the text:\")\n",
    "    line2=input(\"Enter the text:\")\n",
    "    line3=input(\"Enter the text:\")\n",
    "    new_line=\"\\n\"\n",
    "    f.write(line1)\n",
    "    f.write(new_line)\n",
    "    f.write(line2)\n",
    "    f.write(new_line)\n",
    "    f.write(line3)\n",
    "    f.write(new_line)\n",
    "    f.close()\n",
    "    f = open(\"MyFile.txt\",\"r\")\n",
    "    print(f.read())\n",
    "program2()"
   ]
  },
  {
   "cell_type": "code",
   "execution_count": 2,
   "metadata": {},
   "outputs": [],
   "source": [
    "def program3():\n",
    "    with open(\"demo2.txt\",\"r\") as f1:\n",
    "       data=f1.read()\n",
    "    with open(\"demo3.txt\",\"r\") as f2:\n",
    "        data1=f2.read()\n",
    "    with open(\"merge.txt\",\"w\") as f3:\n",
    "        f3.write(data)\n",
    "        f3.write(data1)\n",
    "program3()"
   ]
  },
  {
   "cell_type": "code",
   "execution_count": 3,
   "metadata": {},
   "outputs": [
    {
     "name": "stdout",
     "output_type": "stream",
     "text": [
      "['This', 'file', 'is', 'already', 'created']\n",
      "['Welcome', 'to', 'the', 'World', 'of', 'Python!!!']\n",
      "['It', 'is', 'used', 'to', 'perform', 'various', 'operations']\n"
     ]
    }
   ],
   "source": [
    "#Split File\n",
    "# Split words from each line using split() function \n",
    "with open(\"merge.txt\", \"r\") as f: \n",
    "    #data = f.readlines() \n",
    "    for line in f: \n",
    "        word = line.split() \n",
    "        print(word)"
   ]
  },
  {
   "cell_type": "code",
   "execution_count": 6,
   "metadata": {},
   "outputs": [
    {
     "ename": "NameError",
     "evalue": "name 'merge' is not defined",
     "output_type": "error",
     "traceback": [
      "\u001b[1;31m---------------------------------------------------------------------------\u001b[0m",
      "\u001b[1;31mNameError\u001b[0m                                 Traceback (most recent call last)",
      "\u001b[1;32m<ipython-input-6-f76f40932720>\u001b[0m in \u001b[0;36m<module>\u001b[1;34m\u001b[0m\n\u001b[0;32m      6\u001b[0m \u001b[1;32mimport\u001b[0m \u001b[0mos\u001b[0m\u001b[1;33m\u001b[0m\u001b[1;33m\u001b[0m\u001b[0m\n\u001b[0;32m      7\u001b[0m \u001b[1;31m# Get the directory that the program is currently running in\u001b[0m\u001b[1;33m\u001b[0m\u001b[1;33m\u001b[0m\u001b[1;33m\u001b[0m\u001b[0m\n\u001b[1;32m----> 8\u001b[1;33m \u001b[0mdir_path\u001b[0m \u001b[1;33m=\u001b[0m \u001b[0mos\u001b[0m\u001b[1;33m.\u001b[0m\u001b[0mpath\u001b[0m\u001b[1;33m.\u001b[0m\u001b[0mdirname\u001b[0m\u001b[1;33m(\u001b[0m\u001b[0mos\u001b[0m\u001b[1;33m.\u001b[0m\u001b[0mpath\u001b[0m\u001b[1;33m.\u001b[0m\u001b[0mrealpath\u001b[0m\u001b[1;33m(\u001b[0m\u001b[0mmerge\u001b[0m\u001b[1;33m.\u001b[0m\u001b[0mtxt\u001b[0m\u001b[1;33m)\u001b[0m\u001b[1;33m)\u001b[0m\u001b[1;33m\u001b[0m\u001b[1;33m\u001b[0m\u001b[0m\n\u001b[0m\u001b[0;32m      9\u001b[0m \u001b[1;32mfor\u001b[0m \u001b[0mroot\u001b[0m\u001b[1;33m,\u001b[0m \u001b[0mdirs\u001b[0m\u001b[1;33m,\u001b[0m \u001b[0mfiles\u001b[0m \u001b[1;32min\u001b[0m \u001b[0mos\u001b[0m\u001b[1;33m.\u001b[0m\u001b[0mwalk\u001b[0m\u001b[1;33m(\u001b[0m\u001b[0mdir_path\u001b[0m\u001b[1;33m)\u001b[0m\u001b[1;33m:\u001b[0m\u001b[1;33m\u001b[0m\u001b[1;33m\u001b[0m\u001b[0m\n\u001b[0;32m     10\u001b[0m     \u001b[1;32mfor\u001b[0m \u001b[0mfile\u001b[0m \u001b[1;32min\u001b[0m \u001b[0mfiles\u001b[0m\u001b[1;33m:\u001b[0m\u001b[1;33m\u001b[0m\u001b[1;33m\u001b[0m\u001b[0m\n",
      "\u001b[1;31mNameError\u001b[0m: name 'merge' is not defined"
     ]
    }
   ],
   "source": [
    "\"\"\"\n",
    "Serach File in Current Folder:\n",
    "WAP to search '.txt' files in current folder.\n",
    "We can change file type/name and path according to the requirements. \n",
    "\"\"\"\n",
    "import os \n",
    "# Get the directory that the program is currently running in\n",
    "dir_path = os.path.dirname(os.path.realpath(__file__)) \n",
    "for root, dirs, files in os.walk(dir_path): \n",
    "    for file in files: \n",
    "        # Change the extension from '.txt' to the one of your choice\n",
    "        if file.endswith('.txt'): \n",
    "            print(root + \"/\" + str(file))"
   ]
  },
  {
   "cell_type": "code",
   "execution_count": 7,
   "metadata": {},
   "outputs": [
    {
     "ename": "FileExistsError",
     "evalue": "[WinError 183] Cannot create a file when that file already exists: 'demo4.txt' -> 'demoFour.txt'",
     "output_type": "error",
     "traceback": [
      "\u001b[1;31m---------------------------------------------------------------------------\u001b[0m",
      "\u001b[1;31mFileExistsError\u001b[0m                           Traceback (most recent call last)",
      "\u001b[1;32m<ipython-input-7-f98f7c999b6f>\u001b[0m in \u001b[0;36m<module>\u001b[1;34m\u001b[0m\n\u001b[0;32m      8\u001b[0m \u001b[1;31m#Rename a file from <demo4.txt> to <demoFour.txt>\u001b[0m\u001b[1;33m\u001b[0m\u001b[1;33m\u001b[0m\u001b[1;33m\u001b[0m\u001b[0m\n\u001b[0;32m      9\u001b[0m \u001b[1;31m#with open(\"demo7.txt\", \"r\") as f:\u001b[0m\u001b[1;33m\u001b[0m\u001b[1;33m\u001b[0m\u001b[1;33m\u001b[0m\u001b[0m\n\u001b[1;32m---> 10\u001b[1;33m \u001b[0mos\u001b[0m\u001b[1;33m.\u001b[0m\u001b[0mrename\u001b[0m\u001b[1;33m(\u001b[0m\u001b[1;34m\"demo4.txt\"\u001b[0m\u001b[1;33m,\u001b[0m \u001b[1;34m\"demoFour.txt\"\u001b[0m\u001b[1;33m)\u001b[0m\u001b[1;33m\u001b[0m\u001b[1;33m\u001b[0m\u001b[0m\n\u001b[0m",
      "\u001b[1;31mFileExistsError\u001b[0m: [WinError 183] Cannot create a file when that file already exists: 'demo4.txt' -> 'demoFour.txt'"
     ]
    }
   ],
   "source": [
    "\"\"\"\n",
    "Rename File\n",
    "The rename() method takes two arguments, the current filename, \n",
    "and the new filename.\n",
    "\"\"\"\n",
    "import os\n",
    "\n",
    "#Rename a file from <demo4.txt> to <demoFour.txt>\n",
    "#with open(\"demo7.txt\", \"r\") as f: \n",
    "os.rename(\"demo4.txt\", \"demoFour.txt\")"
   ]
  },
  {
   "cell_type": "code",
   "execution_count": 8,
   "metadata": {},
   "outputs": [
    {
     "data": {
      "text/plain": [
       "0"
      ]
     },
     "execution_count": 8,
     "metadata": {},
     "output_type": "execute_result"
    }
   ],
   "source": [
    "\"\"\"\n",
    "The system() method allows you to instantly execute any OS command \n",
    "or a script in the subshell.You need to pass the command or the \n",
    "script as an argument to the system() call. Internally, \n",
    "this method calls the standard C library function. Its return value \n",
    "is the exit status of the command.\n",
    "\"\"\"\n",
    "import os\n",
    "# Syntax Command OldFileName NewFileName\n",
    "os.system('copy demo3.txt demo5.txt')"
   ]
  },
  {
   "cell_type": "code",
   "execution_count": 21,
   "metadata": {},
   "outputs": [
    {
     "name": "stdout",
     "output_type": "stream",
     "text": [
      "Fil\n",
      "File handeling: Python provides an inbuilt function for creating, \n",
      "\n",
      "on provides an inbuilt function for creating, \n",
      "\n",
      "writing, and reading files. \n",
      "The length of the file is  95\n"
     ]
    }
   ],
   "source": [
    "#File handeling operations.\n",
    "# Python file method seek() sets the file's current position at the offset\n",
    "f=open(\"Src.txt\",\"w\")\n",
    "f.write(\"\"\"File handeling: Python provides an inbuilt function for creating, \n",
    "writing, and reading files. \"\"\")\n",
    "f.close()\n",
    "\n",
    "f=open(\"Src.txt\",\"r\")\n",
    "print(f.read(3))\n",
    "f.seek(0)\n",
    "print(f.readline())\n",
    "f.seek(20)\n",
    "print(f.readline())\n",
    "print(f.readline())\n",
    "f.seek(0)\n",
    "n=len(f.read())\n",
    "print(\"The length of the file is \",n)\n",
    "f.close()"
   ]
  },
  {
   "cell_type": "markdown",
   "metadata": {},
   "source": [
    "The __init__ method is similar to constructors in C++ and Java. \n",
    "Constructors are used to initialize the object’s state. \n",
    "The task of constructors is to initialize(assign values) to the data members of the class when an object of class is created. \n",
    "Like methods, a constructor also contains collection of statements\n",
    "(i.e. instructions) that are executed at time of Object creation. \n",
    "It is run as soon as an object of a class is instantiated. \n",
    "The method is useful to do any initialization you want to do with your object.\n"
   ]
  },
  {
   "cell_type": "code",
   "execution_count": null,
   "metadata": {},
   "outputs": [],
   "source": [
    "Create a class named Person, \n",
    "use the __init__() function to assign values for name and age:"
   ]
  },
  {
   "cell_type": "code",
   "execution_count": 22,
   "metadata": {},
   "outputs": [
    {
     "name": "stdout",
     "output_type": "stream",
     "text": [
      "John\n",
      "36\n"
     ]
    }
   ],
   "source": [
    "class Person:\n",
    "  def __init__(self, name, age):\n",
    "    self.name = name\n",
    "    self.age = age\n",
    "\n",
    "p1 = Person(\"John\", 36)\n",
    "print(p1.name)\n",
    "print(p1.age)"
   ]
  },
  {
   "cell_type": "code",
   "execution_count": 51,
   "metadata": {},
   "outputs": [
    {
     "name": "stdout",
     "output_type": "stream",
     "text": [
      "Hello, my name is abc\n"
     ]
    }
   ],
   "source": [
    "# A Sample class with init method  \n",
    "class Person:  \n",
    "     def __init__(self, name):  # init method or constructor  \n",
    "        self.name = name  \n",
    "      \n",
    "    # Sample Method   \n",
    "     def say_hi(self):  \n",
    "        print('Hello, my name is', self.name)  \n",
    "      \n",
    "p = Person('abc')    \n",
    "p.say_hi()  "
   ]
  },
  {
   "cell_type": "code",
   "execution_count": null,
   "metadata": {},
   "outputs": [],
   "source": [
    "In the above example, a person name abc is created. While creating a \n",
    "person,'abc' is passed as an argument, this argument will be passed \n",
    "to the __init__ method to initialize the object. \n",
    "The keyword self represents the instance of a class and binds the \n",
    "attributes with the given arguments. Similarly, many objects of \n",
    "Person class can be created by passing different names as arguments."
   ]
  },
  {
   "cell_type": "code",
   "execution_count": 52,
   "metadata": {},
   "outputs": [
    {
     "name": "stdout",
     "output_type": "stream",
     "text": [
      "Hello, my name and  roll no. is: abc 12\n",
      "Hello, my name and  roll no. is: pqr 15\n",
      "Hello, my name and  roll no. is: xyz 56\n"
     ]
    }
   ],
   "source": [
    "class Person:        \n",
    "    # init method or constructor   \n",
    "    def __init__(self, name, rollno):  \n",
    "        self.name = name  \n",
    "        self.rollno=rollno\n",
    "      \n",
    "    # Sample Method   \n",
    "    def say_hi(self):  \n",
    "        print(\"Hello, my name and  roll no. is:\", self.name, self.rollno)  \n",
    "  \n",
    "# Creating different objects     \n",
    "p1 = Person('abc',12)  \n",
    "p2 = Person('pqr',15)\n",
    "p3 = Person('xyz',56)\n",
    "  \n",
    "p1.say_hi()  \n",
    "p2.say_hi()\n",
    "p3.say_hi()"
   ]
  },
  {
   "cell_type": "markdown",
   "metadata": {},
   "source": [
    "# LAB ACTIVITY\n",
    "#Write a program to count the number of upper- case alphabets present\n",
    "#in a text file “ABC.txt”.\n",
    "\n",
    "Text file “ABC.txt” is \n",
    "Python is a powerful general-purpose programming language.It is used in web development, data science, creating software prototypes, and so on. Fortunately for beginners, Python has simple easy-to-use syntax. This makes Python an excellent language to learn to program for beginners. Our Python tutorial will guide you to learn Python one step at a time\n"
   ]
  },
  {
   "cell_type": "code",
   "execution_count": 53,
   "metadata": {},
   "outputs": [
    {
     "name": "stdout",
     "output_type": "stream",
     "text": [
      "count 9\n"
     ]
    }
   ],
   "source": [
    "f1=open(\"ABC.txt\",\"w\")\n",
    "f1.write(\"\"\"Python is a powerful general-purpose programming language. \n",
    "It is used in web development, data science, creating software prototypes, \n",
    "and so on. Fortunately for beginners, Python has simple easy-to-use syntax.\n",
    "This makes Python an excellent language to learn to program for beginners.\n",
    "Our Python tutorial will guide you to learn Python one step at a time\"\"\")\n",
    "f1.close()\n",
    "\n",
    "f1=open(\"ABC.txt\",\"r\")\n",
    "cnt=0\n",
    "for ch in f1.read():\n",
    "    if(ch.isupper()):\n",
    "    #if(ch>='A' and ch<='Z'):\n",
    "        cnt+=1\n",
    "print(\"count\",cnt)\n",
    "f1.close()\n",
    "    "
   ]
  },
  {
   "cell_type": "code",
   "execution_count": null,
   "metadata": {},
   "outputs": [],
   "source": [
    "#Write a program to count a total number of lines and count the \n",
    "#total number of lines starting with ‘A’, ‘B’, and ‘C’. \n",
    "#(Consider the merge.txt file)"
   ]
  },
  {
   "cell_type": "code",
   "execution_count": 54,
   "metadata": {},
   "outputs": [
    {
     "name": "stdout",
     "output_type": "stream",
     "text": [
      "Total Number of lines are: 5\n",
      "Total Number of lines strating with A are: 0\n",
      "Total Number of lines strating with B are: 0\n",
      "Total Number of lines strating with C are: 0\n"
     ]
    }
   ],
   "source": [
    "def program5():\n",
    "    with open(\"ABC.txt\",\"r\") as f1:\n",
    "       data=f1.readlines()\n",
    "    cnt_lines=0\n",
    "    cnt_A=0\n",
    "    cnt_B=0\n",
    "    cnt_C=0\n",
    "    for lines in data:\n",
    "        cnt_lines+=1\n",
    "        if lines[0]=='A':\n",
    "            cnt_A+=1\n",
    "        if lines[0]=='B':\n",
    "            cnt_B+=1\n",
    "        if lines[0]=='C':\n",
    "            cnt_C+=1\n",
    "    print(\"Total Number of lines are:\",cnt_lines)\n",
    "    print(\"Total Number of lines strating with A are:\",cnt_A)\n",
    "    print(\"Total Number of lines strating with B are:\",cnt_B)\n",
    "    print(\"Total Number of lines strating with C are:\",cnt_C)\n",
    "program5()"
   ]
  },
  {
   "cell_type": "code",
   "execution_count": null,
   "metadata": {},
   "outputs": [],
   "source": [
    "#Find the total occurrences of a specific word from a text file:"
   ]
  },
  {
   "cell_type": "code",
   "execution_count": 29,
   "metadata": {},
   "outputs": [
    {
     "name": "stdout",
     "output_type": "stream",
     "text": [
      "Enter the words to search:is\n",
      "is found  2  times from the file\n"
     ]
    }
   ],
   "source": [
    "def program6():\n",
    "    cnt = 0\n",
    "    word = input(\"Enter the words to search:\")\n",
    "    with open(\"ABC.txt\",\"r\") as f1:\n",
    "        for data in f1:\n",
    "            words = data.split()\n",
    "            for w in words:\n",
    "                if (w == word):\n",
    "                    cnt+=1\n",
    "    print(word, \"found \", cnt, \" times from the file\")\n",
    "program6()"
   ]
  },
  {
   "cell_type": "code",
   "execution_count": 55,
   "metadata": {},
   "outputs": [],
   "source": [
    "#Program to Replace all spaces from text with – (dash)."
   ]
  },
  {
   "cell_type": "code",
   "execution_count": 58,
   "metadata": {},
   "outputs": [],
   "source": [
    "def program8():\n",
    "    with open(\"ABC.txt\",\"r\") as f1:\n",
    "       data = f1.read()\n",
    "       data.replace(' ','-')\n",
    "    with open(\"ABC.txt\",\"w\") as f1:\n",
    "        f1.write(data)\n",
    "program8()"
   ]
  },
  {
   "cell_type": "markdown",
   "metadata": {},
   "source": [
    "#Write a program to know the cursor position and print the text according to below-given specifications:\n",
    "Print the initial position\n",
    "Move the cursor to 4th position\n",
    "Display next 5 characters\n",
    "Move the cursor to the next 10 characters\n",
    "Print the current cursor position\n",
    "Print next 10 characters from the current cursor position"
   ]
  },
  {
   "cell_type": "code",
   "execution_count": 60,
   "metadata": {},
   "outputs": [
    {
     "name": "stdout",
     "output_type": "stream",
     "text": [
      "0\n",
      " file\n",
      "10\n",
      "7\n",
      "le is alre\n"
     ]
    }
   ],
   "source": [
    "f = open(\"merge.txt\",\"r\")\n",
    "print(f.tell())\n",
    "f.seek(4,0)\n",
    "print(f.read(5))\n",
    "f.seek(10,0)\n",
    "print(f.tell())\n",
    "print(f.seek(7,0))\n",
    "print(f.read(10))"
   ]
  },
  {
   "cell_type": "markdown",
   "metadata": {},
   "source": [
    "Class Activity\n",
    "\n",
    "A. Create a function “wt_tr_data” to store information (train_no, train_name, train_type, source, and destination) of a trains running in the western region into a file “west_train_details.txt”.\n",
    "\n",
    "B.Using the file “west_train_details.txt”, create a function “train details” to take train no. as an argument and returns the train details in a proper format.\n"
   ]
  },
  {
   "cell_type": "code",
   "execution_count": null,
   "metadata": {},
   "outputs": [],
   "source": [
    "Create a file containing the given data. \n",
    "write a code to answer the following questions:\n",
    "a. Read a file and Create a dictionary contains information of number \n",
    "of lines and number of words in the file.\n",
    "\n",
    "b. Find all the days of a week present in the file and create a \n",
    "list of it.\n",
    "\n",
    "c. Read a file and create a dictionary contains country name and \n",
    "their occurrences in the file.\n",
    "\n",
    "TEXT: Harnoor Singh struck a fine hundred before the Indian bowlers \n",
    "ran through the opposition to complete a 154-run rout of UAE in their\n",
    "opening U19 Asia Cup match on Thursday. Put in to bat, India put up \n",
    "282 for five, courtesy Harnoor's 120 off 130 balls and skipper Yash Dhull's 63 off 68 balls. Rajvardhan Hangargekar's unbeaten 48 off 23 balls provided the final flourish.\n",
    "UAE used as many as nine bowling options at the ICC Academy Ground but the move did not help their cause.\n",
    "The home team's batters came a cropper against the Indian bowling line up, folding up for 128 in 34.3 overs.\n",
    "Hangargekar took three wickets for India while Garv Sangwan, Vicky Oswal and Kaushal Tamble took two each.\n",
    "India next play arch-rivals Pakistan on Saturday.\n",
    "In the other matches played on Thursday, Pakistan beat Afghanistan \n",
    "by four wickets and Sri Lanka hammered Kuwait by 274 runs.\n",
    "Listen to the latest songs, only on JioSaavn.com\n",
    "The tournament is being played ahead of the U-19 World Cup in \n",
    "the West Indies next month.\n"
   ]
  }
 ],
 "metadata": {
  "kernelspec": {
   "display_name": "Python 3",
   "language": "python",
   "name": "python3"
  },
  "language_info": {
   "codemirror_mode": {
    "name": "ipython",
    "version": 3
   },
   "file_extension": ".py",
   "mimetype": "text/x-python",
   "name": "python",
   "nbconvert_exporter": "python",
   "pygments_lexer": "ipython3",
   "version": "3.7.7"
  }
 },
 "nbformat": 4,
 "nbformat_minor": 5
}
