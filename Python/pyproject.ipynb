{
 "cells": [
  {
   "cell_type": "code",
   "execution_count": 23,
   "metadata": {},
   "outputs": [],
   "source": [
    "import requests"
   ]
  },
  {
   "cell_type": "code",
   "execution_count": 24,
   "metadata": {},
   "outputs": [],
   "source": [
    "res=requests.get('https://ipinfo.io/')"
   ]
  },
  {
   "cell_type": "code",
   "execution_count": 25,
   "metadata": {},
   "outputs": [],
   "source": [
    "data=res.json()\n",
    "#extracting the location of the city from response"
   ]
  },
  {
   "cell_type": "code",
   "execution_count": 5,
   "metadata": {},
   "outputs": [
    {
     "name": "stdout",
     "output_type": "stream",
     "text": [
      "Nagpur\n"
     ]
    }
   ],
   "source": [
    "citydata=data['city']\n",
    "print(citydata)"
   ]
  },
  {
   "cell_type": "code",
   "execution_count": 6,
   "metadata": {},
   "outputs": [],
   "source": [
    "url='https://wttr.in/{}'.format(citydata)"
   ]
  },
  {
   "cell_type": "code",
   "execution_count": 7,
   "metadata": {},
   "outputs": [],
   "source": [
    "res=requests.get(url)"
   ]
  },
  {
   "cell_type": "code",
   "execution_count": 8,
   "metadata": {
    "scrolled": true
   },
   "outputs": [
    {
     "name": "stdout",
     "output_type": "stream",
     "text": [
      "Weather report: Nagpur\n",
      "\n",
      "  \u001b[38;5;250m     .-.     \u001b[0m Drizzle\n",
      "  \u001b[38;5;250m    (   ).   \u001b[0m \u001b[38;5;190m21\u001b[0m °C\u001b[0m          \n",
      "  \u001b[38;5;250m   (___(__)  \u001b[0m \u001b[1m↙\u001b[0m \u001b[38;5;154m9\u001b[0m km/h\u001b[0m       \n",
      "  \u001b[38;5;111m    ‘ ‘ ‘ ‘  \u001b[0m 2 km\u001b[0m           \n",
      "  \u001b[38;5;111m   ‘ ‘ ‘ ‘   \u001b[0m 0.0 mm\u001b[0m         \n",
      "                                                       ┌─────────────┐                                                       \n",
      "┌──────────────────────────────┬───────────────────────┤  Wed 06 Dec ├───────────────────────┬──────────────────────────────┐\n",
      "│            Morning           │             Noon      └──────┬──────┘     Evening           │             Night            │\n",
      "├──────────────────────────────┼──────────────────────────────┼──────────────────────────────┼──────────────────────────────┤\n",
      "│ \u001b[38;5;226m _`/\"\"\u001b[38;5;250m.-.    \u001b[0m Patchy rain po…│               Overcast       │ \u001b[38;5;250m     .-.     \u001b[0m Light drizzle  │ \u001b[38;5;250m     .-.     \u001b[0m Light drizzle  │\n",
      "│ \u001b[38;5;226m  ,\\_\u001b[38;5;250m(   ).  \u001b[0m \u001b[38;5;190m19\u001b[0m °C\u001b[0m          │ \u001b[38;5;240;1m     .--.    \u001b[0m \u001b[38;5;190m20\u001b[0m °C\u001b[0m          │ \u001b[38;5;250m    (   ).   \u001b[0m \u001b[38;5;190m19\u001b[0m °C\u001b[0m          │ \u001b[38;5;250m    (   ).   \u001b[0m \u001b[38;5;190m19\u001b[0m °C\u001b[0m          │\n",
      "│ \u001b[38;5;226m   /\u001b[38;5;250m(___(__) \u001b[0m \u001b[1m↙\u001b[0m \u001b[38;5;220m17\u001b[0m-\u001b[38;5;214m23\u001b[0m km/h\u001b[0m   │ \u001b[38;5;240;1m  .-(    ).  \u001b[0m \u001b[1m↙\u001b[0m \u001b[38;5;220m18\u001b[0m-\u001b[38;5;208m24\u001b[0m km/h\u001b[0m   │ \u001b[38;5;250m   (___(__)  \u001b[0m \u001b[1m↙\u001b[0m \u001b[38;5;226m13\u001b[0m-\u001b[38;5;220m19\u001b[0m km/h\u001b[0m   │ \u001b[38;5;250m   (___(__)  \u001b[0m \u001b[1m↙\u001b[0m \u001b[38;5;226m13\u001b[0m-\u001b[38;5;220m18\u001b[0m km/h\u001b[0m   │\n",
      "│ \u001b[38;5;111m     ‘ ‘ ‘ ‘ \u001b[0m 10 km\u001b[0m          │ \u001b[38;5;240;1m (___.__)__) \u001b[0m 10 km\u001b[0m          │ \u001b[38;5;111m    ‘ ‘ ‘ ‘  \u001b[0m 2 km\u001b[0m           │ \u001b[38;5;111m    ‘ ‘ ‘ ‘  \u001b[0m 2 km\u001b[0m           │\n",
      "│ \u001b[38;5;111m    ‘ ‘ ‘ ‘  \u001b[0m 0.1 mm | 63%\u001b[0m   │               0.0 mm | 0%\u001b[0m    │ \u001b[38;5;111m   ‘ ‘ ‘ ‘   \u001b[0m 0.5 mm | 93%\u001b[0m   │ \u001b[38;5;111m   ‘ ‘ ‘ ‘   \u001b[0m 0.3 mm | 92%\u001b[0m   │\n",
      "└──────────────────────────────┴──────────────────────────────┴──────────────────────────────┴──────────────────────────────┘\n",
      "                                                       ┌─────────────┐                                                       \n",
      "┌──────────────────────────────┬───────────────────────┤  Thu 07 Dec ├───────────────────────┬──────────────────────────────┐\n",
      "│            Morning           │             Noon      └──────┬──────┘     Evening           │             Night            │\n",
      "├──────────────────────────────┼──────────────────────────────┼──────────────────────────────┼──────────────────────────────┤\n",
      "│               Overcast       │ \u001b[38;5;226m _`/\"\"\u001b[38;5;250m.-.    \u001b[0m Patchy rain po…│ \u001b[38;5;226m   \\  /\u001b[0m       Partly cloudy  │               Cloudy         │\n",
      "│ \u001b[38;5;240;1m     .--.    \u001b[0m \u001b[38;5;190m20\u001b[0m °C\u001b[0m          │ \u001b[38;5;226m  ,\\_\u001b[38;5;250m(   ).  \u001b[0m \u001b[38;5;226m22\u001b[0m °C\u001b[0m          │ \u001b[38;5;226m _ /\"\"\u001b[38;5;250m.-.    \u001b[0m \u001b[38;5;190m20\u001b[0m °C\u001b[0m          │ \u001b[38;5;250m     .--.    \u001b[0m \u001b[38;5;190m19\u001b[0m °C\u001b[0m          │\n",
      "│ \u001b[38;5;240;1m  .-(    ).  \u001b[0m \u001b[1m↓\u001b[0m \u001b[38;5;154m8\u001b[0m-\u001b[38;5;190m11\u001b[0m km/h\u001b[0m    │ \u001b[38;5;226m   /\u001b[38;5;250m(___(__) \u001b[0m \u001b[1m↓\u001b[0m \u001b[38;5;190m10\u001b[0m-\u001b[38;5;190m12\u001b[0m km/h\u001b[0m   │ \u001b[38;5;226m   \\_\u001b[38;5;250m(   ).  \u001b[0m \u001b[1m↙\u001b[0m \u001b[38;5;154m8\u001b[0m-\u001b[38;5;226m13\u001b[0m km/h\u001b[0m    │ \u001b[38;5;250m  .-(    ).  \u001b[0m \u001b[1m↙\u001b[0m \u001b[38;5;154m8\u001b[0m-\u001b[38;5;226m13\u001b[0m km/h\u001b[0m    │\n",
      "│ \u001b[38;5;240;1m (___.__)__) \u001b[0m 10 km\u001b[0m          │ \u001b[38;5;111m     ‘ ‘ ‘ ‘ \u001b[0m 10 km\u001b[0m          │ \u001b[38;5;226m   /\u001b[38;5;250m(___(__) \u001b[0m 10 km\u001b[0m          │ \u001b[38;5;250m (___.__)__) \u001b[0m 10 km\u001b[0m          │\n",
      "│               0.0 mm | 0%\u001b[0m    │ \u001b[38;5;111m    ‘ ‘ ‘ ‘  \u001b[0m 0.0 mm | 73%\u001b[0m   │               0.0 mm | 0%\u001b[0m    │               0.0 mm | 0%\u001b[0m    │\n",
      "└──────────────────────────────┴──────────────────────────────┴──────────────────────────────┴──────────────────────────────┘\n",
      "                                                       ┌─────────────┐                                                       \n",
      "┌──────────────────────────────┬───────────────────────┤  Fri 08 Dec ├───────────────────────┬──────────────────────────────┐\n",
      "│            Morning           │             Noon      └──────┬──────┘     Evening           │             Night            │\n",
      "├──────────────────────────────┼──────────────────────────────┼──────────────────────────────┼──────────────────────────────┤\n",
      "│ \u001b[38;5;226m   \\  /\u001b[0m       Partly cloudy  │ \u001b[38;5;226m _`/\"\"\u001b[38;5;250m.-.    \u001b[0m Patchy rain po…│ \u001b[38;5;226m   \\  /\u001b[0m       Partly cloudy  │ \u001b[38;5;226m   \\  /\u001b[0m       Partly cloudy  │\n",
      "│ \u001b[38;5;226m _ /\"\"\u001b[38;5;250m.-.    \u001b[0m \u001b[38;5;190m21\u001b[0m °C\u001b[0m          │ \u001b[38;5;226m  ,\\_\u001b[38;5;250m(   ).  \u001b[0m \u001b[38;5;220m+25\u001b[0m(\u001b[38;5;220m26\u001b[0m) °C\u001b[0m     │ \u001b[38;5;226m _ /\"\"\u001b[38;5;250m.-.    \u001b[0m \u001b[38;5;226m+22\u001b[0m(\u001b[38;5;220m25\u001b[0m) °C\u001b[0m     │ \u001b[38;5;226m _ /\"\"\u001b[38;5;250m.-.    \u001b[0m \u001b[38;5;190m21\u001b[0m °C\u001b[0m          │\n",
      "│ \u001b[38;5;226m   \\_\u001b[38;5;250m(   ).  \u001b[0m \u001b[1m↙\u001b[0m \u001b[38;5;190m10\u001b[0m-\u001b[38;5;190m11\u001b[0m km/h\u001b[0m   │ \u001b[38;5;226m   /\u001b[38;5;250m(___(__) \u001b[0m \u001b[1m↙\u001b[0m \u001b[38;5;118m6\u001b[0m-\u001b[38;5;154m7\u001b[0m km/h\u001b[0m     │ \u001b[38;5;226m   \\_\u001b[38;5;250m(   ).  \u001b[0m \u001b[1m←\u001b[0m \u001b[38;5;190m11\u001b[0m-\u001b[38;5;220m19\u001b[0m km/h\u001b[0m   │ \u001b[38;5;226m   \\_\u001b[38;5;250m(   ).  \u001b[0m \u001b[1m↙\u001b[0m \u001b[38;5;190m10\u001b[0m-\u001b[38;5;220m19\u001b[0m km/h\u001b[0m   │\n",
      "│ \u001b[38;5;226m   /\u001b[38;5;250m(___(__) \u001b[0m 10 km\u001b[0m          │ \u001b[38;5;111m     ‘ ‘ ‘ ‘ \u001b[0m 10 km\u001b[0m          │ \u001b[38;5;226m   /\u001b[38;5;250m(___(__) \u001b[0m 10 km\u001b[0m          │ \u001b[38;5;226m   /\u001b[38;5;250m(___(__) \u001b[0m 10 km\u001b[0m          │\n",
      "│               0.0 mm | 0%\u001b[0m    │ \u001b[38;5;111m    ‘ ‘ ‘ ‘  \u001b[0m 0.0 mm | 62%\u001b[0m   │               0.0 mm | 0%\u001b[0m    │               0.0 mm | 0%\u001b[0m    │\n",
      "└──────────────────────────────┴──────────────────────────────┴──────────────────────────────┴──────────────────────────────┘\n",
      "Location: Nagpur, Maharashtra, 440001, India [21.1498134,79.0820556]\n",
      "\n",
      "Follow \u001b[46m\u001b[30m@igor_chubin\u001b[0m for wttr.in updates\n",
      "\n"
     ]
    }
   ],
   "source": [
    "print(res.text)"
   ]
  },
  {
   "cell_type": "code",
   "execution_count": null,
   "metadata": {},
   "outputs": [],
   "source": []
  },
  {
   "cell_type": "code",
   "execution_count": 26,
   "metadata": {},
   "outputs": [
    {
     "name": "stdout",
     "output_type": "stream",
     "text": [
      "Enter city name to check wheathermumbai\n",
      "Weather report: mumbai\n",
      "\n",
      "                Smoke\n",
      "  \u001b[38;5;240;1m     .--.    \u001b[0m \u001b[38;5;208m+32\u001b[0m(\u001b[38;5;202m35\u001b[0m) °C\u001b[0m     \n",
      "  \u001b[38;5;240;1m  .-(    ).  \u001b[0m \u001b[1m←\u001b[0m \u001b[38;5;220m17\u001b[0m km/h\u001b[0m      \n",
      "  \u001b[38;5;240;1m (___.__)__) \u001b[0m 2 km\u001b[0m           \n",
      "                0.0 mm\u001b[0m         \n",
      "                                                       ┌─────────────┐                                                       \n",
      "┌──────────────────────────────┬───────────────────────┤  Wed 06 Dec ├───────────────────────┬──────────────────────────────┐\n",
      "│            Morning           │             Noon      └──────┬──────┘     Evening           │             Night            │\n",
      "├──────────────────────────────┼──────────────────────────────┼──────────────────────────────┼──────────────────────────────┤\n",
      "│ \u001b[38;5;226m    \\   /    \u001b[0m Sunny          │               Overcast       │ \u001b[38;5;226m    \\   /    \u001b[0m Clear          │ \u001b[38;5;226m    \\   /    \u001b[0m Clear          │\n",
      "│ \u001b[38;5;226m     .-.     \u001b[0m \u001b[38;5;220m+27\u001b[0m(\u001b[38;5;214m28\u001b[0m) °C\u001b[0m     │ \u001b[38;5;240;1m     .--.    \u001b[0m \u001b[38;5;208m+32\u001b[0m(\u001b[38;5;214m30\u001b[0m) °C\u001b[0m     │ \u001b[38;5;226m     .-.     \u001b[0m \u001b[38;5;220m+27\u001b[0m(\u001b[38;5;214m29\u001b[0m) °C\u001b[0m     │ \u001b[38;5;226m     .-.     \u001b[0m \u001b[38;5;220m+27\u001b[0m(\u001b[38;5;214m30\u001b[0m) °C\u001b[0m     │\n",
      "│ \u001b[38;5;226m  ― (   ) ―  \u001b[0m \u001b[1m↙\u001b[0m \u001b[38;5;190m12\u001b[0m-\u001b[38;5;220m17\u001b[0m km/h\u001b[0m   │ \u001b[38;5;240;1m  .-(    ).  \u001b[0m \u001b[1m←\u001b[0m \u001b[38;5;220m17\u001b[0m-\u001b[38;5;208m24\u001b[0m km/h\u001b[0m   │ \u001b[38;5;226m  ― (   ) ―  \u001b[0m \u001b[1m↘\u001b[0m \u001b[38;5;208m27\u001b[0m-\u001b[38;5;196m41\u001b[0m km/h\u001b[0m   │ \u001b[38;5;226m  ― (   ) ―  \u001b[0m \u001b[1m↓\u001b[0m \u001b[38;5;214m23\u001b[0m-\u001b[38;5;196m36\u001b[0m km/h\u001b[0m   │\n",
      "│ \u001b[38;5;226m     `-’     \u001b[0m 10 km\u001b[0m          │ \u001b[38;5;240;1m (___.__)__) \u001b[0m 2 km\u001b[0m           │ \u001b[38;5;226m     `-’     \u001b[0m 10 km\u001b[0m          │ \u001b[38;5;226m     `-’     \u001b[0m 10 km\u001b[0m          │\n",
      "│ \u001b[38;5;226m    /   \\    \u001b[0m 0.0 mm | 0%\u001b[0m    │               0.0 mm | 0%\u001b[0m    │ \u001b[38;5;226m    /   \\    \u001b[0m 0.0 mm | 0%\u001b[0m    │ \u001b[38;5;226m    /   \\    \u001b[0m 0.0 mm | 0%\u001b[0m    │\n",
      "└──────────────────────────────┴──────────────────────────────┴──────────────────────────────┴──────────────────────────────┘\n",
      "                                                       ┌─────────────┐                                                       \n",
      "┌──────────────────────────────┬───────────────────────┤  Thu 07 Dec ├───────────────────────┬──────────────────────────────┐\n",
      "│            Morning           │             Noon      └──────┬──────┘     Evening           │             Night            │\n",
      "├──────────────────────────────┼──────────────────────────────┼──────────────────────────────┼──────────────────────────────┤\n",
      "│ \u001b[38;5;226m    \\   /    \u001b[0m Sunny          │ \u001b[38;5;226m    \\   /    \u001b[0m Sunny          │ \u001b[38;5;226m    \\   /    \u001b[0m Clear          │ \u001b[38;5;226m    \\   /    \u001b[0m Clear          │\n",
      "│ \u001b[38;5;226m     .-.     \u001b[0m \u001b[38;5;220m+27\u001b[0m(\u001b[38;5;214m28\u001b[0m) °C\u001b[0m     │ \u001b[38;5;226m     .-.     \u001b[0m \u001b[38;5;214m+29\u001b[0m(\u001b[38;5;214m30\u001b[0m) °C\u001b[0m     │ \u001b[38;5;226m     .-.     \u001b[0m \u001b[38;5;220m+27\u001b[0m(\u001b[38;5;214m29\u001b[0m) °C\u001b[0m     │ \u001b[38;5;226m     .-.     \u001b[0m \u001b[38;5;220m+27\u001b[0m(\u001b[38;5;214m29\u001b[0m) °C\u001b[0m     │\n",
      "│ \u001b[38;5;226m  ― (   ) ―  \u001b[0m \u001b[1m↙\u001b[0m \u001b[38;5;154m8\u001b[0m-\u001b[38;5;190m11\u001b[0m km/h\u001b[0m    │ \u001b[38;5;226m  ― (   ) ―  \u001b[0m \u001b[1m↘\u001b[0m \u001b[38;5;154m8\u001b[0m-\u001b[38;5;190m11\u001b[0m km/h\u001b[0m    │ \u001b[38;5;226m  ― (   ) ―  \u001b[0m \u001b[1m↘\u001b[0m \u001b[38;5;214m23\u001b[0m-\u001b[38;5;196m34\u001b[0m km/h\u001b[0m   │ \u001b[38;5;226m  ― (   ) ―  \u001b[0m \u001b[1m↓\u001b[0m \u001b[38;5;220m17\u001b[0m-\u001b[38;5;208m25\u001b[0m km/h\u001b[0m   │\n",
      "│ \u001b[38;5;226m     `-’     \u001b[0m 10 km\u001b[0m          │ \u001b[38;5;226m     `-’     \u001b[0m 10 km\u001b[0m          │ \u001b[38;5;226m     `-’     \u001b[0m 10 km\u001b[0m          │ \u001b[38;5;226m     `-’     \u001b[0m 10 km\u001b[0m          │\n",
      "│ \u001b[38;5;226m    /   \\    \u001b[0m 0.0 mm | 0%\u001b[0m    │ \u001b[38;5;226m    /   \\    \u001b[0m 0.0 mm | 0%\u001b[0m    │ \u001b[38;5;226m    /   \\    \u001b[0m 0.0 mm | 0%\u001b[0m    │ \u001b[38;5;226m    /   \\    \u001b[0m 0.0 mm | 0%\u001b[0m    │\n",
      "└──────────────────────────────┴──────────────────────────────┴──────────────────────────────┴──────────────────────────────┘\n",
      "                                                       ┌─────────────┐                                                       \n",
      "┌──────────────────────────────┬───────────────────────┤  Fri 08 Dec ├───────────────────────┬──────────────────────────────┐\n",
      "│            Morning           │             Noon      └──────┬──────┘     Evening           │             Night            │\n",
      "├──────────────────────────────┼──────────────────────────────┼──────────────────────────────┼──────────────────────────────┤\n",
      "│ \u001b[38;5;226m    \\   /    \u001b[0m Sunny          │ \u001b[38;5;226m    \\   /    \u001b[0m Sunny          │ \u001b[38;5;226m    \\   /    \u001b[0m Clear          │ \u001b[38;5;226m    \\   /    \u001b[0m Clear          │\n",
      "│ \u001b[38;5;226m     .-.     \u001b[0m \u001b[38;5;220m+27\u001b[0m(\u001b[38;5;214m28\u001b[0m) °C\u001b[0m     │ \u001b[38;5;226m     .-.     \u001b[0m \u001b[38;5;214m+29\u001b[0m(\u001b[38;5;214m30\u001b[0m) °C\u001b[0m     │ \u001b[38;5;226m     .-.     \u001b[0m \u001b[38;5;220m+27\u001b[0m(\u001b[38;5;214m30\u001b[0m) °C\u001b[0m     │ \u001b[38;5;226m     .-.     \u001b[0m \u001b[38;5;220m+27\u001b[0m(\u001b[38;5;214m30\u001b[0m) °C\u001b[0m     │\n",
      "│ \u001b[38;5;226m  ― (   ) ―  \u001b[0m \u001b[1m↙\u001b[0m \u001b[38;5;154m8\u001b[0m-\u001b[38;5;190m11\u001b[0m km/h\u001b[0m    │ \u001b[38;5;226m  ― (   ) ―  \u001b[0m \u001b[1m↘\u001b[0m \u001b[38;5;118m4\u001b[0m-\u001b[38;5;118m5\u001b[0m km/h\u001b[0m     │ \u001b[38;5;226m  ― (   ) ―  \u001b[0m \u001b[1m↘\u001b[0m \u001b[38;5;214m20\u001b[0m-\u001b[38;5;202m29\u001b[0m km/h\u001b[0m   │ \u001b[38;5;226m  ― (   ) ―  \u001b[0m \u001b[1m↘\u001b[0m \u001b[38;5;220m17\u001b[0m-\u001b[38;5;208m25\u001b[0m km/h\u001b[0m   │\n",
      "│ \u001b[38;5;226m     `-’     \u001b[0m 10 km\u001b[0m          │ \u001b[38;5;226m     `-’     \u001b[0m 10 km\u001b[0m          │ \u001b[38;5;226m     `-’     \u001b[0m 10 km\u001b[0m          │ \u001b[38;5;226m     `-’     \u001b[0m 10 km\u001b[0m          │\n",
      "│ \u001b[38;5;226m    /   \\    \u001b[0m 0.0 mm | 0%\u001b[0m    │ \u001b[38;5;226m    /   \\    \u001b[0m 0.0 mm | 0%\u001b[0m    │ \u001b[38;5;226m    /   \\    \u001b[0m 0.0 mm | 0%\u001b[0m    │ \u001b[38;5;226m    /   \\    \u001b[0m 0.0 mm | 0%\u001b[0m    │\n",
      "└──────────────────────────────┴──────────────────────────────┴──────────────────────────────┴──────────────────────────────┘\n",
      "Location: Mumbai, Greater Bombay, Maharashtra, India [18.9321862,72.8308337]\n",
      "\n",
      "Follow \u001b[46m\u001b[30m@igor_chubin\u001b[0m for wttr.in updates\n",
      "\n"
     ]
    }
   ],
   "source": [
    "cityname=input(\"Enter city name to check wheather\")\n",
    "#try 'pune'\n",
    "url='https://wttr.in/{}'.format(cityname)\n",
    "res=requests.get(url)\n",
    "print(res.text)"
   ]
  },
  {
   "cell_type": "code",
   "execution_count": null,
   "metadata": {},
   "outputs": [],
   "source": [
    "pip install geopy"
   ]
  },
  {
   "cell_type": "code",
   "execution_count": null,
   "metadata": {},
   "outputs": [],
   "source": [
    "pip install Nominatim"
   ]
  },
  {
   "cell_type": "code",
   "execution_count": null,
   "metadata": {},
   "outputs": [],
   "source": [
    "pip install folium"
   ]
  },
  {
   "cell_type": "code",
   "execution_count": 27,
   "metadata": {},
   "outputs": [
    {
     "name": "stdout",
     "output_type": "stream",
     "text": [
      "The latitude of the location is:  19.0785451\n",
      "The longitude of the location is:  72.878176\n"
     ]
    }
   ],
   "source": [
    "from geopy.geocoders import Nominatim\n",
    "import folium\n",
    "\n",
    "# Initialize Nominatim API\n",
    "geolocator = Nominatim(user_agent=\"MyApp\")\n",
    "\n",
    "location = geolocator.geocode(cityname)\n",
    "latitude=location.latitude\n",
    "longitude=location.longitude\n",
    "print(\"The latitude of the location is: \", location.latitude)\n",
    "print(\"The longitude of the location is: \", location.longitude)"
   ]
  },
  {
   "cell_type": "code",
   "execution_count": 28,
   "metadata": {},
   "outputs": [
    {
     "data": {
      "text/html": [
       "<div style=\"width:100%;\"><div style=\"position:relative;width:100%;height:0;padding-bottom:60%;\"><span style=\"color:#565656\">Make this Notebook Trusted to load map: File -> Trust Notebook</span><iframe srcdoc=\"&lt;!DOCTYPE html&gt;\n",
       "&lt;html&gt;\n",
       "&lt;head&gt;\n",
       "    \n",
       "    &lt;meta http-equiv=&quot;content-type&quot; content=&quot;text/html; charset=UTF-8&quot; /&gt;\n",
       "    \n",
       "        &lt;script&gt;\n",
       "            L_NO_TOUCH = false;\n",
       "            L_DISABLE_3D = false;\n",
       "        &lt;/script&gt;\n",
       "    \n",
       "    &lt;style&gt;html, body {width: 100%;height: 100%;margin: 0;padding: 0;}&lt;/style&gt;\n",
       "    &lt;style&gt;#map {position:absolute;top:0;bottom:0;right:0;left:0;}&lt;/style&gt;\n",
       "    &lt;script src=&quot;https://cdn.jsdelivr.net/npm/leaflet@1.9.3/dist/leaflet.js&quot;&gt;&lt;/script&gt;\n",
       "    &lt;script src=&quot;https://code.jquery.com/jquery-3.7.1.min.js&quot;&gt;&lt;/script&gt;\n",
       "    &lt;script src=&quot;https://cdn.jsdelivr.net/npm/bootstrap@5.2.2/dist/js/bootstrap.bundle.min.js&quot;&gt;&lt;/script&gt;\n",
       "    &lt;script src=&quot;https://cdnjs.cloudflare.com/ajax/libs/Leaflet.awesome-markers/2.0.2/leaflet.awesome-markers.js&quot;&gt;&lt;/script&gt;\n",
       "    &lt;link rel=&quot;stylesheet&quot; href=&quot;https://cdn.jsdelivr.net/npm/leaflet@1.9.3/dist/leaflet.css&quot;/&gt;\n",
       "    &lt;link rel=&quot;stylesheet&quot; href=&quot;https://cdn.jsdelivr.net/npm/bootstrap@5.2.2/dist/css/bootstrap.min.css&quot;/&gt;\n",
       "    &lt;link rel=&quot;stylesheet&quot; href=&quot;https://netdna.bootstrapcdn.com/bootstrap/3.0.0/css/bootstrap.min.css&quot;/&gt;\n",
       "    &lt;link rel=&quot;stylesheet&quot; href=&quot;https://cdn.jsdelivr.net/npm/@fortawesome/fontawesome-free@6.2.0/css/all.min.css&quot;/&gt;\n",
       "    &lt;link rel=&quot;stylesheet&quot; href=&quot;https://cdnjs.cloudflare.com/ajax/libs/Leaflet.awesome-markers/2.0.2/leaflet.awesome-markers.css&quot;/&gt;\n",
       "    &lt;link rel=&quot;stylesheet&quot; href=&quot;https://cdn.jsdelivr.net/gh/python-visualization/folium/folium/templates/leaflet.awesome.rotate.min.css&quot;/&gt;\n",
       "    \n",
       "            &lt;meta name=&quot;viewport&quot; content=&quot;width=device-width,\n",
       "                initial-scale=1.0, maximum-scale=1.0, user-scalable=no&quot; /&gt;\n",
       "            &lt;style&gt;\n",
       "                #map_308a161aa2b45256ad86f860c8807d53 {\n",
       "                    position: relative;\n",
       "                    width: 100.0%;\n",
       "                    height: 100.0%;\n",
       "                    left: 0.0%;\n",
       "                    top: 0.0%;\n",
       "                }\n",
       "                .leaflet-container { font-size: 1rem; }\n",
       "            &lt;/style&gt;\n",
       "        \n",
       "&lt;/head&gt;\n",
       "&lt;body&gt;\n",
       "    \n",
       "    \n",
       "            &lt;div class=&quot;folium-map&quot; id=&quot;map_308a161aa2b45256ad86f860c8807d53&quot; &gt;&lt;/div&gt;\n",
       "        \n",
       "&lt;/body&gt;\n",
       "&lt;script&gt;\n",
       "    \n",
       "    \n",
       "            var map_308a161aa2b45256ad86f860c8807d53 = L.map(\n",
       "                &quot;map_308a161aa2b45256ad86f860c8807d53&quot;,\n",
       "                {\n",
       "                    center: [0.0, 0.0],\n",
       "                    crs: L.CRS.EPSG3857,\n",
       "                    zoom: 1,\n",
       "                    zoomControl: true,\n",
       "                    preferCanvas: false,\n",
       "                }\n",
       "            );\n",
       "\n",
       "            \n",
       "\n",
       "        \n",
       "    \n",
       "            var tile_layer_cd20c6afb8ce0a3d95fe54b4f763b339 = L.tileLayer(\n",
       "                &quot;https://tile.openstreetmap.org/{z}/{x}/{y}.png&quot;,\n",
       "                {&quot;attribution&quot;: &quot;\\u0026copy; \\u003ca href=\\&quot;https://www.openstreetmap.org/copyright\\&quot;\\u003eOpenStreetMap\\u003c/a\\u003e contributors&quot;, &quot;detectRetina&quot;: false, &quot;maxNativeZoom&quot;: 19, &quot;maxZoom&quot;: 19, &quot;minZoom&quot;: 0, &quot;noWrap&quot;: false, &quot;opacity&quot;: 1, &quot;subdomains&quot;: &quot;abc&quot;, &quot;tms&quot;: false}\n",
       "            );\n",
       "        \n",
       "    \n",
       "            tile_layer_cd20c6afb8ce0a3d95fe54b4f763b339.addTo(map_308a161aa2b45256ad86f860c8807d53);\n",
       "        \n",
       "    \n",
       "            var marker_3bb6d936c44c3763311e901e63ef73ff = L.marker(\n",
       "                [19.0785451, 72.878176],\n",
       "                {}\n",
       "            ).addTo(map_308a161aa2b45256ad86f860c8807d53);\n",
       "        \n",
       "    \n",
       "        var popup_063662b7335b9d584601959bf75510ba = L.popup({&quot;maxWidth&quot;: &quot;100%&quot;});\n",
       "\n",
       "        \n",
       "            \n",
       "                var html_23389139243b43daa892a65a412e97d0 = $(`&lt;div id=&quot;html_23389139243b43daa892a65a412e97d0&quot; style=&quot;width: 100.0%; height: 100.0%;&quot;&gt;mumbai&lt;/div&gt;`)[0];\n",
       "                popup_063662b7335b9d584601959bf75510ba.setContent(html_23389139243b43daa892a65a412e97d0);\n",
       "            \n",
       "        \n",
       "\n",
       "        marker_3bb6d936c44c3763311e901e63ef73ff.bindPopup(popup_063662b7335b9d584601959bf75510ba)\n",
       "        ;\n",
       "\n",
       "        \n",
       "    \n",
       "&lt;/script&gt;\n",
       "&lt;/html&gt;\" style=\"position:absolute;width:100%;height:100%;left:0;top:0;border:none !important;\" allowfullscreen webkitallowfullscreen mozallowfullscreen></iframe></div></div>"
      ],
      "text/plain": [
       "<folium.folium.Map at 0x6ffffe5b1610>"
      ]
     },
     "execution_count": 28,
     "metadata": {},
     "output_type": "execute_result"
    }
   ],
   "source": [
    "world = folium.Map()\n",
    "\n",
    "folium.Marker(\n",
    "    location=[latitude, longitude],\n",
    "popup=cityname).add_to(world)\n",
    "\n",
    "world"
   ]
  },
  {
   "cell_type": "markdown",
   "metadata": {},
   "source": [
    "Other ways to get weather forecast using api key"
   ]
  },
  {
   "cell_type": "code",
   "execution_count": 22,
   "metadata": {},
   "outputs": [
    {
     "name": "stdout",
     "output_type": "stream",
     "text": [
      "Failed to fetch data\n",
      "No data to display\n"
     ]
    }
   ],
   "source": [
    "import requests\n",
    "\n",
    "def get_weather(city):\n",
    "    api_key = '6a861378dcec3f6a0e914e16e71d61de'  #  OpenWeatherMap API key\n",
    "    base_url = f'http://api.openweathermap.org/data/2.5/weather?q={city}&appid={api_key}&units=metric'\n",
    "    \n",
    "    response = requests.get(base_url)\n",
    "    if response.status_code == 200:\n",
    "        data = response.json()\n",
    "        return data\n",
    "    else:\n",
    "        print(\"Failed to fetch data\")\n",
    "        return None\n",
    "\n",
    "def display_weather(weather_data):\n",
    "    if weather_data:\n",
    "        print(f\"Weather in {weather_data['name']} - {weather_data['weather'][0]['description']}\")\n",
    "        print(f\"Temperature: {weather_data['main']['temp']}°C\")\n",
    "        print(f\"Humidity: {weather_data['main']['humidity']}%\")\n",
    "        print(f\"Wind Speed: {weather_data['wind']['speed']} m/s\")\n",
    "    else:\n",
    "        print(\"No data to display\")\n",
    "\n",
    "def main():\n",
    "    city = input(\"Enter city name: \")\n",
    "    weather_data = get_weather(city)\n",
    "    display_weather(weather_data)\n",
    "\n",
    "if __name__ == \"__main__\":\n",
    "    main()\n"
   ]
  },
  {
   "cell_type": "code",
   "execution_count": 13,
   "metadata": {},
   "outputs": [],
   "source": []
  }
 ],
 "metadata": {
  "kernelspec": {
   "display_name": "Python 3",
   "language": "python",
   "name": "python3"
  },
  "language_info": {
   "codemirror_mode": {
    "name": "ipython",
    "version": 3
   },
   "file_extension": ".py",
   "mimetype": "text/x-python",
   "name": "python",
   "nbconvert_exporter": "python",
   "pygments_lexer": "ipython3",
   "version": "3.7.7"
  }
 },
 "nbformat": 4,
 "nbformat_minor": 2
}
