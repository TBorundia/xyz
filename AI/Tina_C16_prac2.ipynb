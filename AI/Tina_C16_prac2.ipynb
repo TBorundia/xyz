{
 "cells": [
  {
   "cell_type": "code",
   "execution_count": null,
   "id": "e5a7a38b-08f8-4c40-98ad-1431bf3a9393",
   "metadata": {},
   "outputs": [],
   "source": [
    "from collections import deque\n",
    "\n",
    "def is_valid_state(state, jug1_capacity, jug2_capacity):\n",
    "    x, y = state\n",
    "    return 0 <= x <= jug1_capacity and 0 <= y <= jug2_capacity\n",
    "\n",
    "def bfs(jug1_capacity, jug2_capacity, target):\n",
    "    queue = deque([(0, 0)])  # Starting state (both jugs are empty)\n",
    "    visited = set([(0, 0)])  # To keep track of visited states\n",
    "    parent_map = {}  \n",
    "\n",
    "    while queue:\n",
    "        x, y = queue.popleft()\n",
    "\n",
    "        if x == target or y == target:\n",
    "            solution_path = []\n",
    "            while (x, y) in parent_map:\n",
    "                solution_path.append((x, y))\n",
    "                x, y = parent_map[(x, y)]\n",
    "            solution_path.append((0, 0))\n",
    "            return solution_path[::-1]\n",
    "\n",
    "        possible_moves = [\n",
    "            (jug1_capacity, y),  \n",
    "            (x, jug2_capacity),  \n",
    "            (0, y),               \n",
    "            (x, 0),                \n",
    "            (min(jug1_capacity, x + y), max(0, x + y - jug1_capacity)),  \n",
    "            (max(0, x + y - jug2_capacity), min(jug2_capacity, x + y))   \n",
    "        ]\n",
    "\n",
    "        for new_state in possible_moves:\n",
    "            if is_valid_state(new_state, jug1_capacity, jug2_capacity) and new_state not in visited:\n",
    "                visited.add(new_state)\n",
    "                parent_map[new_state] = (x, y)\n",
    "                queue.append(new_state)\n",
    "\n",
    "    return None\n",
    "\n",
    "def main():\n",
    "    jug1_capacity = int(input(\"Enter capacity of Jug 1: \"))\n",
    "    jug2_capacity = int(input(\"Enter capacity of Jug 2: \"))\n",
    "    target = int(input(\"Enter target amount: \"))\n",
    "\n",
    "    solution = bfs(jug1_capacity, jug2_capacity, target)\n",
    "\n",
    "    if solution:\n",
    "        print(\"Solution path:\")\n",
    "        for step in solution:\n",
    "            print(step)\n",
    "    else:\n",
    "        print(\"No solution found.\")\n",
    "\n",
    "if __name__ == \"__main__\":\n",
    "    main()\n"
   ]
  }
 ],
 "metadata": {
  "kernelspec": {
   "display_name": "Python 3 (ipykernel)",
   "language": "python",
   "name": "python3"
  },
  "language_info": {
   "codemirror_mode": {
    "name": "ipython",
    "version": 3
   },
   "file_extension": ".py",
   "mimetype": "text/x-python",
   "name": "python",
   "nbconvert_exporter": "python",
   "pygments_lexer": "ipython3",
   "version": "3.12.4"
  }
 },
 "nbformat": 4,
 "nbformat_minor": 5
}
